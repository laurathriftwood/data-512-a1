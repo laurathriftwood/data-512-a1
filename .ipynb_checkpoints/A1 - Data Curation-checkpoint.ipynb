{
 "cells": [
  {
   "cell_type": "code",
   "execution_count": 1,
   "id": "hawaiian-notification",
   "metadata": {},
   "outputs": [],
   "source": [
    "import json\n",
    "import requests"
   ]
  },
  {
   "cell_type": "code",
   "execution_count": 2,
   "id": "alpine-parent",
   "metadata": {},
   "outputs": [],
   "source": [
    "endpoint_legacy = 'https://wikimedia.org/api/rest_v1/metrics/legacy/pagecounts/aggregate/{project}/{access-site}/{granularity}/{start}/{end}'\n",
    "\n",
    "endpoint_pageviews = 'https://wikimedia.org/api/rest_v1/metrics/pageviews/aggregate/{project}/{access}/{agent}/{granularity}/{start}/{end}'"
   ]
  },
  {
   "cell_type": "code",
   "execution_count": null,
   "id": "tamil-silver",
   "metadata": {},
   "outputs": [],
   "source": [
    "example_params_legacy = {\"project\" : \"en.wikipedia.org\",\n",
    "                 \"access-site\" : \"desktop-site\",\n",
    "                 \"granularity\" : \"monthly\",\n",
    "                 \"start\" : \"2001010100\",\n",
    "                # for end use 1st day of month following final month of data\n",
    "                 \"end\" : \"2018100100\"\n",
    "                    }\n",
    "\n",
    "example_params_pageviews = {\"project\" : \"en.wikipedia.org\",\n",
    "                    \"access\" : \"desktop\",\n",
    "                    \"agent\" : \"user\",\n",
    "                    \"granularity\" : \"monthly\",\n",
    "                    \"start\" : \"2001010100\",\n",
    "                    # for end use 1st day of month following final month of data\n",
    "                    \"end\" : '2018101000'\n",
    "                        }\n",
    "\n",
    "# Customize these with your own information\n",
    "headers = {\n",
    "    'User-Agent': 'https://github.com/laurathriftwood',\n",
    "    'From': 'lwood3@uw.edu'\n",
    "}"
   ]
  },
  {
   "cell_type": "code",
   "execution_count": null,
   "id": "developmental-shame",
   "metadata": {},
   "outputs": [],
   "source": [
    "def api_call(endpoint,parameters):\n",
    "    call = requests.get(endpoint.format(**parameters), headers=headers)\n",
    "    response = call.json()\n",
    "    \n",
    "    return response"
   ]
  },
  {
   "cell_type": "code",
   "execution_count": null,
   "id": "rising-ethiopia",
   "metadata": {},
   "outputs": [],
   "source": [
    "example_monthly_pageviews = api_call(endpoint_pageviews, example_params_pageviews)"
   ]
  },
  {
   "cell_type": "code",
   "execution_count": null,
   "id": "after-tongue",
   "metadata": {},
   "outputs": [],
   "source": [
    "print(example_monthly_pageviews)"
   ]
  },
  {
   "cell_type": "code",
   "execution_count": null,
   "id": "ignored-speech",
   "metadata": {},
   "outputs": [],
   "source": [
    "example_monthly_legacy = api_call(endpoint_legacy, example_params_legacy)"
   ]
  },
  {
   "cell_type": "code",
   "execution_count": null,
   "id": "educational-universe",
   "metadata": {},
   "outputs": [],
   "source": [
    "print(example_monthly_legacy)"
   ]
  }
 ],
 "metadata": {
  "kernelspec": {
   "display_name": "Python 3",
   "language": "python",
   "name": "python3"
  },
  "language_info": {
   "codemirror_mode": {
    "name": "ipython",
    "version": 3
   },
   "file_extension": ".py",
   "mimetype": "text/x-python",
   "name": "python",
   "nbconvert_exporter": "python",
   "pygments_lexer": "ipython3",
   "version": "3.8.5"
  }
 },
 "nbformat": 4,
 "nbformat_minor": 5
}
