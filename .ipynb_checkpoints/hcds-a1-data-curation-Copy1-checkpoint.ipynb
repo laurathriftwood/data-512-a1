{
 "cells": [
  {
   "cell_type": "code",
   "execution_count": 1,
   "id": "elder-trinity",
   "metadata": {},
   "outputs": [],
   "source": [
    "import json\n",
    "import requests"
   ]
  },
  {
   "cell_type": "code",
   "execution_count": 2,
   "id": "understood-ending",
   "metadata": {},
   "outputs": [],
   "source": [
    "endpoint_legacy = 'https://wikimedia.org/api/rest_v1/metrics/legacy/pagecounts/aggregate/{project}/{access-site}/{granularity}/{start}/{end}'\n",
    "\n",
    "endpoint_pageviews = 'https://wikimedia.org/api/rest_v1/metrics/pageviews/aggregate/{project}/{access}/{agent}/{granularity}/{start}/{end}'"
   ]
  },
  {
   "cell_type": "code",
   "execution_count": 3,
   "id": "worthy-consolidation",
   "metadata": {},
   "outputs": [],
   "source": [
    "params_legacy_desktop = {\"project\" : \"en.wikipedia.org\",\n",
    "                 \"access-site\" : \"desktop-site\",\n",
    "                 \"granularity\" : \"monthly\",\n",
    "                 \"start\" : \"2008010100\",\n",
    "                 \"end\" : \"2016080100\"\n",
    "                    }\n",
    "\n",
    "params_legacy_mobile = {\"project\" : \"en.wikipedia.org\",\n",
    "                 \"access-site\" : \"mobile-site\",\n",
    "                 \"granularity\" : \"monthly\",\n",
    "                 \"start\" : \"2008010100\",\n",
    "                 \"end\" : \"2016080100\"\n",
    "                    }\n",
    "\n",
    "params_pageviews_desktop = {\"project\" : \"en.wikipedia.org\",\n",
    "                    \"access\" : \"desktop\",\n",
    "                    \"agent\" : \"user\",\n",
    "                    \"granularity\" : \"monthly\",\n",
    "                    \"start\" : \"2015070100\",\n",
    "                    \"end\" : '2021100100'\n",
    "                        }\n",
    "\n",
    "params_pageviews_mobile_web = {\"project\" : \"en.wikipedia.org\",\n",
    "                    \"access\" : \"mobile-web\",\n",
    "                    \"agent\" : \"user\",\n",
    "                    \"granularity\" : \"monthly\",\n",
    "                    \"start\" : \"2015070100\",\n",
    "                    \"end\" : '2021100100'\n",
    "                        }\n",
    "\n",
    "params_pageviews_mobile_app = {\"project\" : \"en.wikipedia.org\",\n",
    "                    \"access\" : \"mobile-app\",\n",
    "                    \"agent\" : \"user\",\n",
    "                    \"granularity\" : \"monthly\",\n",
    "                    \"start\" : \"2015070100\",\n",
    "                    \"end\" : '2021100100'\n",
    "                        }\n",
    "\n",
    "# Customize these with your own information\n",
    "headers = {\n",
    "    'User-Agent': 'https://github.com/laurathriftwood',\n",
    "    'From': 'lwood3@uw.edu'\n",
    "}"
   ]
  },
  {
   "cell_type": "code",
   "execution_count": 4,
   "id": "rapid-choir",
   "metadata": {},
   "outputs": [],
   "source": [
    "def api_call(endpoint,parameters):\n",
    "    call = requests.get(endpoint.format(**parameters), headers=headers)\n",
    "    response = call.json()\n",
    "    return response"
   ]
  },
  {
   "cell_type": "code",
   "execution_count": 5,
   "id": "unable-senior",
   "metadata": {},
   "outputs": [],
   "source": [
    "def write_json(output, file_name):\n",
    "    print(file_name)\n",
    "    with open(file_name, 'w+') as outfile:\n",
    "        json.dump(output, outfile)\n",
    "        print(\" written successfully\")"
   ]
  },
  {
   "cell_type": "code",
   "execution_count": 6,
   "id": "cloudy-aurora",
   "metadata": {},
   "outputs": [],
   "source": [
    "# Legacy PageCounts API calls\n",
    "\n",
    "# desktop traffic\n",
    "monthly_legacy_desktop = api_call(endpoint_legacy, params_legacy_desktop)\n",
    "\n",
    "# mobile traffic\n",
    "monthly_legacy_mobile = api_call(endpoint_legacy, params_legacy_mobile)"
   ]
  },
  {
   "cell_type": "code",
   "execution_count": 7,
   "id": "north-harbor",
   "metadata": {},
   "outputs": [
    {
     "name": "stdout",
     "output_type": "stream",
     "text": [
      "pagecounts_desktop_200801-201607.json\n",
      " written successfully\n",
      "pagecounts_mobile_200801-201607.json\n",
      " written successfully\n"
     ]
    }
   ],
   "source": [
    "# Write Legacy PageCounts to file\n",
    "write_json(monthly_legacy_desktop, 'pagecounts_desktop_200801-201607.json')\n",
    "write_json(monthly_legacy_mobile, 'pagecounts_mobile_200801-201607.json')"
   ]
  },
  {
   "cell_type": "code",
   "execution_count": 8,
   "id": "light-louisville",
   "metadata": {},
   "outputs": [],
   "source": [
    "# PageViews API calls\n",
    "\n",
    "# desktop traffic\n",
    "monthly_pageviews_desktop = api_call(endpoint_pageviews, params_pageviews_desktop)\n",
    "\n",
    "# mobile-web traffic\n",
    "monthly_pageviews_mobile_web = api_call(endpoint_pageviews, params_pageviews_mobile_web)\n",
    "\n",
    "# mobile-app traffic\n",
    "monthly_pageviews_mobile_app = api_call(endpoint_pageviews, params_pageviews_mobile_app)"
   ]
  },
  {
   "cell_type": "code",
   "execution_count": 9,
   "id": "canadian-choir",
   "metadata": {},
   "outputs": [
    {
     "name": "stdout",
     "output_type": "stream",
     "text": [
      "pageviews_desktop_201507-202109.json\n",
      " written successfully\n",
      "pageviews_mobile-web_201507-202109.json\n",
      " written successfully\n",
      "pageviews_mobile-app_201507-202109.json\n",
      " written successfully\n"
     ]
    }
   ],
   "source": [
    "# Write PageViews to file\n",
    "write_json(monthly_pageviews_desktop, 'pageviews_desktop_201507-202109.json')\n",
    "write_json(monthly_pageviews_mobile_web, 'pageviews_mobile-web_201507-202109.json')\n",
    "write_json(monthly_pageviews_mobile_app, 'pageviews_mobile-app_201507-202109.json')"
   ]
  },
  {
   "cell_type": "code",
   "execution_count": 10,
   "id": "artificial-conservation",
   "metadata": {},
   "outputs": [],
   "source": [
    "import pandas as pd\n",
    "import math"
   ]
  },
  {
   "cell_type": "code",
   "execution_count": 11,
   "id": "deluxe-strip",
   "metadata": {},
   "outputs": [],
   "source": [
    "#read in Legacy data from json files\n",
    "df_monthly_legacy_desktop = pd.read_json('pagecounts_desktop_200801-201607.json')\n",
    "df_monthly_legacy_mobile = pd.read_json('pagecounts_mobile_200801-201607.json')"
   ]
  },
  {
   "cell_type": "code",
   "execution_count": 12,
   "id": "dressed-personality",
   "metadata": {},
   "outputs": [],
   "source": [
    "#unnest Legacy data into dataframe\n",
    "df_monthly_legacy_desktop = pd.json_normalize(df_monthly_legacy_desktop['items'])\n",
    "df_monthly_legacy_mobile = pd.json_normalize(df_monthly_legacy_mobile['items'])"
   ]
  },
  {
   "cell_type": "code",
   "execution_count": 13,
   "id": "complete-crown",
   "metadata": {},
   "outputs": [],
   "source": [
    "#read in PageViews data from json files\n",
    "df_monthly_pageviews_desktop = pd.read_json('pageviews_desktop_201507-202109.json')\n",
    "df_monthly_pageviews_mobile_web = pd.read_json('pageviews_mobile-web_201507-202109.json')\n",
    "df_monthly_pageviews_mobile_app = pd.read_json('pageviews_mobile-app_201507-202109.json')"
   ]
  },
  {
   "cell_type": "code",
   "execution_count": 14,
   "id": "pressing-speaker",
   "metadata": {},
   "outputs": [],
   "source": [
    "#unnest PageViews data into dataframe\n",
    "df_monthly_pageviews_desktop = pd.json_normalize(df_monthly_pageviews_desktop['items'])\n",
    "df_monthly_pageviews_mobile_web = pd.json_normalize(df_monthly_pageviews_mobile_web['items'])\n",
    "df_monthly_pageviews_mobile_app = pd.json_normalize(df_monthly_pageviews_mobile_app['items'])"
   ]
  },
  {
   "cell_type": "code",
   "execution_count": 15,
   "id": "acoustic-touch",
   "metadata": {},
   "outputs": [],
   "source": [
    "#drop unnecessary columns from Legacy data"
   ]
  },
  {
   "cell_type": "code",
   "execution_count": 16,
   "id": "superb-johns",
   "metadata": {},
   "outputs": [],
   "source": [
    "legacy_columns = ['project', 'granularity']"
   ]
  },
  {
   "cell_type": "code",
   "execution_count": 17,
   "id": "focal-unemployment",
   "metadata": {},
   "outputs": [],
   "source": [
    "df_monthly_legacy_desktop = df_monthly_legacy_desktop.drop(columns = legacy_columns, axis=1)"
   ]
  },
  {
   "cell_type": "code",
   "execution_count": 18,
   "id": "worse-berry",
   "metadata": {},
   "outputs": [],
   "source": [
    "df_monthly_legacy_mobile = df_monthly_legacy_mobile.drop(columns = legacy_columns, axis=1)"
   ]
  },
  {
   "cell_type": "code",
   "execution_count": 19,
   "id": "collective-segment",
   "metadata": {},
   "outputs": [],
   "source": [
    "#rename legacy headers\n",
    "df_monthly_legacy_desktop = df_monthly_legacy_desktop.rename(columns={'access-site': 'access', 'count': 'num_views'})"
   ]
  },
  {
   "cell_type": "code",
   "execution_count": 20,
   "id": "threatened-italy",
   "metadata": {},
   "outputs": [],
   "source": [
    "#rename legacy headers\n",
    "df_monthly_legacy_mobile = df_monthly_legacy_mobile.rename(columns={'access-site': 'access', 'count': 'num_views'})"
   ]
  },
  {
   "cell_type": "code",
   "execution_count": 21,
   "id": "bottom-incident",
   "metadata": {},
   "outputs": [
    {
     "data": {
      "text/html": [
       "<div>\n",
       "<style scoped>\n",
       "    .dataframe tbody tr th:only-of-type {\n",
       "        vertical-align: middle;\n",
       "    }\n",
       "\n",
       "    .dataframe tbody tr th {\n",
       "        vertical-align: top;\n",
       "    }\n",
       "\n",
       "    .dataframe thead th {\n",
       "        text-align: right;\n",
       "    }\n",
       "</style>\n",
       "<table border=\"1\" class=\"dataframe\">\n",
       "  <thead>\n",
       "    <tr style=\"text-align: right;\">\n",
       "      <th></th>\n",
       "      <th>access</th>\n",
       "      <th>timestamp</th>\n",
       "      <th>num_views</th>\n",
       "    </tr>\n",
       "  </thead>\n",
       "  <tbody>\n",
       "    <tr>\n",
       "      <th>0</th>\n",
       "      <td>desktop-site</td>\n",
       "      <td>2008010100</td>\n",
       "      <td>4930902570</td>\n",
       "    </tr>\n",
       "    <tr>\n",
       "      <th>1</th>\n",
       "      <td>desktop-site</td>\n",
       "      <td>2008020100</td>\n",
       "      <td>4818393763</td>\n",
       "    </tr>\n",
       "    <tr>\n",
       "      <th>2</th>\n",
       "      <td>desktop-site</td>\n",
       "      <td>2008030100</td>\n",
       "      <td>4955405809</td>\n",
       "    </tr>\n",
       "    <tr>\n",
       "      <th>3</th>\n",
       "      <td>desktop-site</td>\n",
       "      <td>2008040100</td>\n",
       "      <td>5159162183</td>\n",
       "    </tr>\n",
       "    <tr>\n",
       "      <th>4</th>\n",
       "      <td>desktop-site</td>\n",
       "      <td>2008050100</td>\n",
       "      <td>5584691092</td>\n",
       "    </tr>\n",
       "    <tr>\n",
       "      <th>...</th>\n",
       "      <td>...</td>\n",
       "      <td>...</td>\n",
       "      <td>...</td>\n",
       "    </tr>\n",
       "    <tr>\n",
       "      <th>98</th>\n",
       "      <td>desktop-site</td>\n",
       "      <td>2016030100</td>\n",
       "      <td>5407676056</td>\n",
       "    </tr>\n",
       "    <tr>\n",
       "      <th>99</th>\n",
       "      <td>desktop-site</td>\n",
       "      <td>2016040100</td>\n",
       "      <td>5572235399</td>\n",
       "    </tr>\n",
       "    <tr>\n",
       "      <th>100</th>\n",
       "      <td>desktop-site</td>\n",
       "      <td>2016050100</td>\n",
       "      <td>5330532334</td>\n",
       "    </tr>\n",
       "    <tr>\n",
       "      <th>101</th>\n",
       "      <td>desktop-site</td>\n",
       "      <td>2016060100</td>\n",
       "      <td>4975092447</td>\n",
       "    </tr>\n",
       "    <tr>\n",
       "      <th>102</th>\n",
       "      <td>desktop-site</td>\n",
       "      <td>2016070100</td>\n",
       "      <td>5363966439</td>\n",
       "    </tr>\n",
       "  </tbody>\n",
       "</table>\n",
       "<p>103 rows × 3 columns</p>\n",
       "</div>"
      ],
      "text/plain": [
       "           access   timestamp   num_views\n",
       "0    desktop-site  2008010100  4930902570\n",
       "1    desktop-site  2008020100  4818393763\n",
       "2    desktop-site  2008030100  4955405809\n",
       "3    desktop-site  2008040100  5159162183\n",
       "4    desktop-site  2008050100  5584691092\n",
       "..            ...         ...         ...\n",
       "98   desktop-site  2016030100  5407676056\n",
       "99   desktop-site  2016040100  5572235399\n",
       "100  desktop-site  2016050100  5330532334\n",
       "101  desktop-site  2016060100  4975092447\n",
       "102  desktop-site  2016070100  5363966439\n",
       "\n",
       "[103 rows x 3 columns]"
      ]
     },
     "execution_count": 21,
     "metadata": {},
     "output_type": "execute_result"
    }
   ],
   "source": [
    "df_monthly_legacy_desktop"
   ]
  },
  {
   "cell_type": "code",
   "execution_count": 62,
   "id": "removed-actor",
   "metadata": {},
   "outputs": [],
   "source": [
    "#rename access for legacy desktop views\n",
    "df_monthly_legacy_desktop = df_monthly_legacy_desktop.replace(to_replace = ['desktop-site'], value = 'pagecount_desktop_views')"
   ]
  },
  {
   "cell_type": "code",
   "execution_count": 61,
   "id": "caroline-appendix",
   "metadata": {},
   "outputs": [],
   "source": [
    "#rename access for legacy mobile views\n",
    "df_monthly_legacy_mobile = df_monthly_legacy_mobile.replace(to_replace = ['mobile-site'], value = 'pagecount_mobile_views')"
   ]
  },
  {
   "cell_type": "code",
   "execution_count": 24,
   "id": "perceived-statistics",
   "metadata": {},
   "outputs": [],
   "source": [
    "#drop unnecessary columns from desktop PageViews\n",
    "df_monthly_pageviews_desktop = df_monthly_pageviews_desktop.drop(df_monthly_pageviews_desktop.columns[[0, 2, 3]], axis=1)"
   ]
  },
  {
   "cell_type": "code",
   "execution_count": 25,
   "id": "disturbed-steel",
   "metadata": {},
   "outputs": [],
   "source": [
    "#rename access for pageviews desktop\n",
    "df_monthly_pageviews_desktop = df_monthly_pageviews_desktop.replace(to_replace = ['desktop'], value = 'pageview_desktop_views')"
   ]
  },
  {
   "cell_type": "code",
   "execution_count": 26,
   "id": "handed-original",
   "metadata": {},
   "outputs": [],
   "source": [
    "#rename column header\n",
    "df_monthly_pageviews_desktop = df_monthly_pageviews_desktop.rename(columns={'views': 'num_views'})"
   ]
  },
  {
   "cell_type": "code",
   "execution_count": 28,
   "id": "horizontal-completion",
   "metadata": {},
   "outputs": [],
   "source": [
    "#For data collected from the Pageviews API, combine the monthly values for\n",
    "# mobile-app and mobile-web to create a total mobile traffic count for each month."
   ]
  },
  {
   "cell_type": "code",
   "execution_count": 29,
   "id": "weekly-integer",
   "metadata": {},
   "outputs": [],
   "source": [
    "#merge the two PageViews mobile using inner join\n",
    "merged = pd.merge(left=df_monthly_pageviews_mobile_web, \n",
    "                       right=df_monthly_pageviews_mobile_app,\n",
    "                       left_on='timestamp', \n",
    "                       right_on='timestamp')"
   ]
  },
  {
   "cell_type": "code",
   "execution_count": 30,
   "id": "interesting-protocol",
   "metadata": {},
   "outputs": [],
   "source": [
    "#sum the views for the two mobile access types\n",
    "merged['num_views'] = merged['views_x'] + merged['views_y']"
   ]
  },
  {
   "cell_type": "code",
   "execution_count": 31,
   "id": "passing-distribution",
   "metadata": {},
   "outputs": [],
   "source": [
    "#add a column for access type for combined views\n",
    "merged['access'] = 'pageview_mobile_views'"
   ]
  },
  {
   "cell_type": "code",
   "execution_count": 32,
   "id": "fleet-decimal",
   "metadata": {},
   "outputs": [],
   "source": [
    "df_monthly_pageviews_mobile_combined = merged.copy()"
   ]
  },
  {
   "cell_type": "code",
   "execution_count": 33,
   "id": "polished-selection",
   "metadata": {},
   "outputs": [],
   "source": [
    "#drop unnecessary columns from combined mobile PageViews\n",
    "df_monthly_pageviews_mobile_combined = merged.drop(merged.columns[[0, 1, 2, 3, 5, 6, 7, 8, 9, 10]], \n",
    "                                                                                 axis=1)"
   ]
  },
  {
   "cell_type": "code",
   "execution_count": null,
   "id": "major-cable",
   "metadata": {},
   "outputs": [],
   "source": []
  },
  {
   "cell_type": "code",
   "execution_count": 70,
   "id": "optimum-going",
   "metadata": {},
   "outputs": [
    {
     "name": "stdout",
     "output_type": "stream",
     "text": [
      "(103, 3)\n",
      "(22, 3)\n",
      "(75, 3)\n",
      "(75, 3)\n"
     ]
    }
   ],
   "source": [
    "print(df_monthly_legacy_desktop.shape)\n",
    "print(df_monthly_legacy_mobile.shape)\n",
    "print(df_monthly_pageviews_desktop.shape)\n",
    "print(df_monthly_pageviews_mobile_combined.shape)"
   ]
  },
  {
   "cell_type": "code",
   "execution_count": 75,
   "id": "unauthorized-preservation",
   "metadata": {},
   "outputs": [
    {
     "data": {
      "text/html": [
       "<div>\n",
       "<style scoped>\n",
       "    .dataframe tbody tr th:only-of-type {\n",
       "        vertical-align: middle;\n",
       "    }\n",
       "\n",
       "    .dataframe tbody tr th {\n",
       "        vertical-align: top;\n",
       "    }\n",
       "\n",
       "    .dataframe thead th {\n",
       "        text-align: right;\n",
       "    }\n",
       "</style>\n",
       "<table border=\"1\" class=\"dataframe\">\n",
       "  <thead>\n",
       "    <tr style=\"text-align: right;\">\n",
       "      <th></th>\n",
       "      <th>access</th>\n",
       "      <th>timestamp</th>\n",
       "      <th>num_views</th>\n",
       "    </tr>\n",
       "  </thead>\n",
       "  <tbody>\n",
       "    <tr>\n",
       "      <th>0</th>\n",
       "      <td>pagecount_desktop_views</td>\n",
       "      <td>2008010100</td>\n",
       "      <td>4930902570</td>\n",
       "    </tr>\n",
       "    <tr>\n",
       "      <th>1</th>\n",
       "      <td>pagecount_desktop_views</td>\n",
       "      <td>2008020100</td>\n",
       "      <td>4818393763</td>\n",
       "    </tr>\n",
       "    <tr>\n",
       "      <th>2</th>\n",
       "      <td>pagecount_desktop_views</td>\n",
       "      <td>2008030100</td>\n",
       "      <td>4955405809</td>\n",
       "    </tr>\n",
       "    <tr>\n",
       "      <th>3</th>\n",
       "      <td>pagecount_desktop_views</td>\n",
       "      <td>2008040100</td>\n",
       "      <td>5159162183</td>\n",
       "    </tr>\n",
       "    <tr>\n",
       "      <th>4</th>\n",
       "      <td>pagecount_desktop_views</td>\n",
       "      <td>2008050100</td>\n",
       "      <td>5584691092</td>\n",
       "    </tr>\n",
       "    <tr>\n",
       "      <th>...</th>\n",
       "      <td>...</td>\n",
       "      <td>...</td>\n",
       "      <td>...</td>\n",
       "    </tr>\n",
       "    <tr>\n",
       "      <th>98</th>\n",
       "      <td>pagecount_desktop_views</td>\n",
       "      <td>2016030100</td>\n",
       "      <td>5407676056</td>\n",
       "    </tr>\n",
       "    <tr>\n",
       "      <th>99</th>\n",
       "      <td>pagecount_desktop_views</td>\n",
       "      <td>2016040100</td>\n",
       "      <td>5572235399</td>\n",
       "    </tr>\n",
       "    <tr>\n",
       "      <th>100</th>\n",
       "      <td>pagecount_desktop_views</td>\n",
       "      <td>2016050100</td>\n",
       "      <td>5330532334</td>\n",
       "    </tr>\n",
       "    <tr>\n",
       "      <th>101</th>\n",
       "      <td>pagecount_desktop_views</td>\n",
       "      <td>2016060100</td>\n",
       "      <td>4975092447</td>\n",
       "    </tr>\n",
       "    <tr>\n",
       "      <th>102</th>\n",
       "      <td>pagecount_desktop_views</td>\n",
       "      <td>2016070100</td>\n",
       "      <td>5363966439</td>\n",
       "    </tr>\n",
       "  </tbody>\n",
       "</table>\n",
       "<p>103 rows × 3 columns</p>\n",
       "</div>"
      ],
      "text/plain": [
       "                      access   timestamp   num_views\n",
       "0    pagecount_desktop_views  2008010100  4930902570\n",
       "1    pagecount_desktop_views  2008020100  4818393763\n",
       "2    pagecount_desktop_views  2008030100  4955405809\n",
       "3    pagecount_desktop_views  2008040100  5159162183\n",
       "4    pagecount_desktop_views  2008050100  5584691092\n",
       "..                       ...         ...         ...\n",
       "98   pagecount_desktop_views  2016030100  5407676056\n",
       "99   pagecount_desktop_views  2016040100  5572235399\n",
       "100  pagecount_desktop_views  2016050100  5330532334\n",
       "101  pagecount_desktop_views  2016060100  4975092447\n",
       "102  pagecount_desktop_views  2016070100  5363966439\n",
       "\n",
       "[103 rows x 3 columns]"
      ]
     },
     "execution_count": 75,
     "metadata": {},
     "output_type": "execute_result"
    }
   ],
   "source": [
    "df_monthly_legacy_desktop"
   ]
  },
  {
   "cell_type": "code",
   "execution_count": 76,
   "id": "lucky-complexity",
   "metadata": {},
   "outputs": [
    {
     "data": {
      "text/html": [
       "<div>\n",
       "<style scoped>\n",
       "    .dataframe tbody tr th:only-of-type {\n",
       "        vertical-align: middle;\n",
       "    }\n",
       "\n",
       "    .dataframe tbody tr th {\n",
       "        vertical-align: top;\n",
       "    }\n",
       "\n",
       "    .dataframe thead th {\n",
       "        text-align: right;\n",
       "    }\n",
       "</style>\n",
       "<table border=\"1\" class=\"dataframe\">\n",
       "  <thead>\n",
       "    <tr style=\"text-align: right;\">\n",
       "      <th></th>\n",
       "      <th>access</th>\n",
       "      <th>timestamp</th>\n",
       "      <th>num_views</th>\n",
       "    </tr>\n",
       "  </thead>\n",
       "  <tbody>\n",
       "    <tr>\n",
       "      <th>0</th>\n",
       "      <td>pagecount_mobile_views</td>\n",
       "      <td>2014100100</td>\n",
       "      <td>3091546685</td>\n",
       "    </tr>\n",
       "    <tr>\n",
       "      <th>1</th>\n",
       "      <td>pagecount_mobile_views</td>\n",
       "      <td>2014110100</td>\n",
       "      <td>3027489668</td>\n",
       "    </tr>\n",
       "    <tr>\n",
       "      <th>2</th>\n",
       "      <td>pagecount_mobile_views</td>\n",
       "      <td>2014120100</td>\n",
       "      <td>3278950021</td>\n",
       "    </tr>\n",
       "    <tr>\n",
       "      <th>3</th>\n",
       "      <td>pagecount_mobile_views</td>\n",
       "      <td>2015010100</td>\n",
       "      <td>3485302091</td>\n",
       "    </tr>\n",
       "    <tr>\n",
       "      <th>4</th>\n",
       "      <td>pagecount_mobile_views</td>\n",
       "      <td>2015020100</td>\n",
       "      <td>3091534479</td>\n",
       "    </tr>\n",
       "    <tr>\n",
       "      <th>5</th>\n",
       "      <td>pagecount_mobile_views</td>\n",
       "      <td>2015030100</td>\n",
       "      <td>3330832588</td>\n",
       "    </tr>\n",
       "    <tr>\n",
       "      <th>6</th>\n",
       "      <td>pagecount_mobile_views</td>\n",
       "      <td>2015040100</td>\n",
       "      <td>3222089917</td>\n",
       "    </tr>\n",
       "    <tr>\n",
       "      <th>7</th>\n",
       "      <td>pagecount_mobile_views</td>\n",
       "      <td>2015050100</td>\n",
       "      <td>3334069483</td>\n",
       "    </tr>\n",
       "    <tr>\n",
       "      <th>8</th>\n",
       "      <td>pagecount_mobile_views</td>\n",
       "      <td>2015060100</td>\n",
       "      <td>3038162463</td>\n",
       "    </tr>\n",
       "    <tr>\n",
       "      <th>9</th>\n",
       "      <td>pagecount_mobile_views</td>\n",
       "      <td>2015070100</td>\n",
       "      <td>3254472695</td>\n",
       "    </tr>\n",
       "    <tr>\n",
       "      <th>10</th>\n",
       "      <td>pagecount_mobile_views</td>\n",
       "      <td>2015080100</td>\n",
       "      <td>3268487582</td>\n",
       "    </tr>\n",
       "    <tr>\n",
       "      <th>11</th>\n",
       "      <td>pagecount_mobile_views</td>\n",
       "      <td>2015090100</td>\n",
       "      <td>3172429827</td>\n",
       "    </tr>\n",
       "    <tr>\n",
       "      <th>12</th>\n",
       "      <td>pagecount_mobile_views</td>\n",
       "      <td>2015100100</td>\n",
       "      <td>3246082505</td>\n",
       "    </tr>\n",
       "    <tr>\n",
       "      <th>13</th>\n",
       "      <td>pagecount_mobile_views</td>\n",
       "      <td>2015110100</td>\n",
       "      <td>3218234512</td>\n",
       "    </tr>\n",
       "    <tr>\n",
       "      <th>14</th>\n",
       "      <td>pagecount_mobile_views</td>\n",
       "      <td>2015120100</td>\n",
       "      <td>3387411863</td>\n",
       "    </tr>\n",
       "    <tr>\n",
       "      <th>15</th>\n",
       "      <td>pagecount_mobile_views</td>\n",
       "      <td>2016010100</td>\n",
       "      <td>3739628742</td>\n",
       "    </tr>\n",
       "    <tr>\n",
       "      <th>16</th>\n",
       "      <td>pagecount_mobile_views</td>\n",
       "      <td>2016020100</td>\n",
       "      <td>3333231392</td>\n",
       "    </tr>\n",
       "    <tr>\n",
       "      <th>17</th>\n",
       "      <td>pagecount_mobile_views</td>\n",
       "      <td>2016030100</td>\n",
       "      <td>3419853636</td>\n",
       "    </tr>\n",
       "    <tr>\n",
       "      <th>18</th>\n",
       "      <td>pagecount_mobile_views</td>\n",
       "      <td>2016040100</td>\n",
       "      <td>3301385124</td>\n",
       "    </tr>\n",
       "    <tr>\n",
       "      <th>19</th>\n",
       "      <td>pagecount_mobile_views</td>\n",
       "      <td>2016050100</td>\n",
       "      <td>3418435805</td>\n",
       "    </tr>\n",
       "    <tr>\n",
       "      <th>20</th>\n",
       "      <td>pagecount_mobile_views</td>\n",
       "      <td>2016060100</td>\n",
       "      <td>3372618063</td>\n",
       "    </tr>\n",
       "    <tr>\n",
       "      <th>21</th>\n",
       "      <td>pagecount_mobile_views</td>\n",
       "      <td>2016070100</td>\n",
       "      <td>3500661121</td>\n",
       "    </tr>\n",
       "  </tbody>\n",
       "</table>\n",
       "</div>"
      ],
      "text/plain": [
       "                    access   timestamp   num_views\n",
       "0   pagecount_mobile_views  2014100100  3091546685\n",
       "1   pagecount_mobile_views  2014110100  3027489668\n",
       "2   pagecount_mobile_views  2014120100  3278950021\n",
       "3   pagecount_mobile_views  2015010100  3485302091\n",
       "4   pagecount_mobile_views  2015020100  3091534479\n",
       "5   pagecount_mobile_views  2015030100  3330832588\n",
       "6   pagecount_mobile_views  2015040100  3222089917\n",
       "7   pagecount_mobile_views  2015050100  3334069483\n",
       "8   pagecount_mobile_views  2015060100  3038162463\n",
       "9   pagecount_mobile_views  2015070100  3254472695\n",
       "10  pagecount_mobile_views  2015080100  3268487582\n",
       "11  pagecount_mobile_views  2015090100  3172429827\n",
       "12  pagecount_mobile_views  2015100100  3246082505\n",
       "13  pagecount_mobile_views  2015110100  3218234512\n",
       "14  pagecount_mobile_views  2015120100  3387411863\n",
       "15  pagecount_mobile_views  2016010100  3739628742\n",
       "16  pagecount_mobile_views  2016020100  3333231392\n",
       "17  pagecount_mobile_views  2016030100  3419853636\n",
       "18  pagecount_mobile_views  2016040100  3301385124\n",
       "19  pagecount_mobile_views  2016050100  3418435805\n",
       "20  pagecount_mobile_views  2016060100  3372618063\n",
       "21  pagecount_mobile_views  2016070100  3500661121"
      ]
     },
     "execution_count": 76,
     "metadata": {},
     "output_type": "execute_result"
    }
   ],
   "source": [
    "df_monthly_legacy_mobile"
   ]
  },
  {
   "cell_type": "code",
   "execution_count": 35,
   "id": "mysterious-program",
   "metadata": {},
   "outputs": [],
   "source": [
    "#For all data, separate the value of timestamp into four-digit year (YYYY) and two-digit\n",
    "#month (MM) and discard values for day and hour (DDHH)."
   ]
  },
  {
   "cell_type": "code",
   "execution_count": 71,
   "id": "occasional-spirit",
   "metadata": {},
   "outputs": [],
   "source": [
    "#combine all dataframes"
   ]
  },
  {
   "cell_type": "code",
   "execution_count": 72,
   "id": "iraqi-voice",
   "metadata": {},
   "outputs": [],
   "source": [
    "#combine all dataframes\n",
    "all_data = [df_monthly_legacy_desktop, \n",
    "            df_monthly_legacy_mobile, \n",
    "            df_monthly_pageviews_desktop, \n",
    "            df_monthly_pageviews_mobile_combined]"
   ]
  },
  {
   "cell_type": "code",
   "execution_count": null,
   "id": "dated-vertex",
   "metadata": {},
   "outputs": [],
   "source": []
  },
  {
   "cell_type": "code",
   "execution_count": 77,
   "id": "grateful-negative",
   "metadata": {},
   "outputs": [],
   "source": [
    "all_data_concat = pd.concat(all_data, axis=1, keys=['pagecount_desktop_views', \n",
    "                                                    'pagecount_mobile_views', \n",
    "                                                   'pageview_desktop_views', \n",
    "                                                   'pageview_mobile_views'])"
   ]
  },
  {
   "cell_type": "code",
   "execution_count": 78,
   "id": "stretch-reverse",
   "metadata": {},
   "outputs": [
    {
     "data": {
      "text/html": [
       "<div>\n",
       "<style scoped>\n",
       "    .dataframe tbody tr th:only-of-type {\n",
       "        vertical-align: middle;\n",
       "    }\n",
       "\n",
       "    .dataframe tbody tr th {\n",
       "        vertical-align: top;\n",
       "    }\n",
       "\n",
       "    .dataframe thead tr th {\n",
       "        text-align: left;\n",
       "    }\n",
       "</style>\n",
       "<table border=\"1\" class=\"dataframe\">\n",
       "  <thead>\n",
       "    <tr>\n",
       "      <th></th>\n",
       "      <th colspan=\"3\" halign=\"left\">pagecount_desktop_views</th>\n",
       "      <th colspan=\"3\" halign=\"left\">pagecount_mobile_views</th>\n",
       "      <th colspan=\"3\" halign=\"left\">pageview_desktop_views</th>\n",
       "      <th colspan=\"3\" halign=\"left\">pageview_mobile_views</th>\n",
       "    </tr>\n",
       "    <tr>\n",
       "      <th></th>\n",
       "      <th>access</th>\n",
       "      <th>timestamp</th>\n",
       "      <th>num_views</th>\n",
       "      <th>access</th>\n",
       "      <th>timestamp</th>\n",
       "      <th>num_views</th>\n",
       "      <th>access</th>\n",
       "      <th>timestamp</th>\n",
       "      <th>num_views</th>\n",
       "      <th>timestamp</th>\n",
       "      <th>num_views</th>\n",
       "      <th>access</th>\n",
       "    </tr>\n",
       "  </thead>\n",
       "  <tbody>\n",
       "    <tr>\n",
       "      <th>0</th>\n",
       "      <td>pagecount_desktop_views</td>\n",
       "      <td>2008010100</td>\n",
       "      <td>4930902570</td>\n",
       "      <td>pagecount_mobile_views</td>\n",
       "      <td>2014100100</td>\n",
       "      <td>3.091547e+09</td>\n",
       "      <td>pageview_desktop_views</td>\n",
       "      <td>2015070100</td>\n",
       "      <td>4.376667e+09</td>\n",
       "      <td>2015070100</td>\n",
       "      <td>3.288755e+09</td>\n",
       "      <td>pageview_mobile_views</td>\n",
       "    </tr>\n",
       "    <tr>\n",
       "      <th>1</th>\n",
       "      <td>pagecount_desktop_views</td>\n",
       "      <td>2008020100</td>\n",
       "      <td>4818393763</td>\n",
       "      <td>pagecount_mobile_views</td>\n",
       "      <td>2014110100</td>\n",
       "      <td>3.027490e+09</td>\n",
       "      <td>pageview_desktop_views</td>\n",
       "      <td>2015080100</td>\n",
       "      <td>4.332482e+09</td>\n",
       "      <td>2015080100</td>\n",
       "      <td>3.302333e+09</td>\n",
       "      <td>pageview_mobile_views</td>\n",
       "    </tr>\n",
       "    <tr>\n",
       "      <th>2</th>\n",
       "      <td>pagecount_desktop_views</td>\n",
       "      <td>2008030100</td>\n",
       "      <td>4955405809</td>\n",
       "      <td>pagecount_mobile_views</td>\n",
       "      <td>2014120100</td>\n",
       "      <td>3.278950e+09</td>\n",
       "      <td>pageview_desktop_views</td>\n",
       "      <td>2015090100</td>\n",
       "      <td>4.485492e+09</td>\n",
       "      <td>2015090100</td>\n",
       "      <td>3.170203e+09</td>\n",
       "      <td>pageview_mobile_views</td>\n",
       "    </tr>\n",
       "    <tr>\n",
       "      <th>3</th>\n",
       "      <td>pagecount_desktop_views</td>\n",
       "      <td>2008040100</td>\n",
       "      <td>5159162183</td>\n",
       "      <td>pagecount_mobile_views</td>\n",
       "      <td>2015010100</td>\n",
       "      <td>3.485302e+09</td>\n",
       "      <td>pageview_desktop_views</td>\n",
       "      <td>2015100100</td>\n",
       "      <td>4.477533e+09</td>\n",
       "      <td>2015100100</td>\n",
       "      <td>3.268499e+09</td>\n",
       "      <td>pageview_mobile_views</td>\n",
       "    </tr>\n",
       "    <tr>\n",
       "      <th>4</th>\n",
       "      <td>pagecount_desktop_views</td>\n",
       "      <td>2008050100</td>\n",
       "      <td>5584691092</td>\n",
       "      <td>pagecount_mobile_views</td>\n",
       "      <td>2015020100</td>\n",
       "      <td>3.091534e+09</td>\n",
       "      <td>pageview_desktop_views</td>\n",
       "      <td>2015110100</td>\n",
       "      <td>4.287720e+09</td>\n",
       "      <td>2015110100</td>\n",
       "      <td>3.236601e+09</td>\n",
       "      <td>pageview_mobile_views</td>\n",
       "    </tr>\n",
       "    <tr>\n",
       "      <th>...</th>\n",
       "      <td>...</td>\n",
       "      <td>...</td>\n",
       "      <td>...</td>\n",
       "      <td>...</td>\n",
       "      <td>...</td>\n",
       "      <td>...</td>\n",
       "      <td>...</td>\n",
       "      <td>...</td>\n",
       "      <td>...</td>\n",
       "      <td>...</td>\n",
       "      <td>...</td>\n",
       "      <td>...</td>\n",
       "    </tr>\n",
       "    <tr>\n",
       "      <th>98</th>\n",
       "      <td>pagecount_desktop_views</td>\n",
       "      <td>2016030100</td>\n",
       "      <td>5407676056</td>\n",
       "      <td>NaN</td>\n",
       "      <td>NaN</td>\n",
       "      <td>NaN</td>\n",
       "      <td>NaN</td>\n",
       "      <td>NaN</td>\n",
       "      <td>NaN</td>\n",
       "      <td>NaN</td>\n",
       "      <td>NaN</td>\n",
       "      <td>NaN</td>\n",
       "    </tr>\n",
       "    <tr>\n",
       "      <th>99</th>\n",
       "      <td>pagecount_desktop_views</td>\n",
       "      <td>2016040100</td>\n",
       "      <td>5572235399</td>\n",
       "      <td>NaN</td>\n",
       "      <td>NaN</td>\n",
       "      <td>NaN</td>\n",
       "      <td>NaN</td>\n",
       "      <td>NaN</td>\n",
       "      <td>NaN</td>\n",
       "      <td>NaN</td>\n",
       "      <td>NaN</td>\n",
       "      <td>NaN</td>\n",
       "    </tr>\n",
       "    <tr>\n",
       "      <th>100</th>\n",
       "      <td>pagecount_desktop_views</td>\n",
       "      <td>2016050100</td>\n",
       "      <td>5330532334</td>\n",
       "      <td>NaN</td>\n",
       "      <td>NaN</td>\n",
       "      <td>NaN</td>\n",
       "      <td>NaN</td>\n",
       "      <td>NaN</td>\n",
       "      <td>NaN</td>\n",
       "      <td>NaN</td>\n",
       "      <td>NaN</td>\n",
       "      <td>NaN</td>\n",
       "    </tr>\n",
       "    <tr>\n",
       "      <th>101</th>\n",
       "      <td>pagecount_desktop_views</td>\n",
       "      <td>2016060100</td>\n",
       "      <td>4975092447</td>\n",
       "      <td>NaN</td>\n",
       "      <td>NaN</td>\n",
       "      <td>NaN</td>\n",
       "      <td>NaN</td>\n",
       "      <td>NaN</td>\n",
       "      <td>NaN</td>\n",
       "      <td>NaN</td>\n",
       "      <td>NaN</td>\n",
       "      <td>NaN</td>\n",
       "    </tr>\n",
       "    <tr>\n",
       "      <th>102</th>\n",
       "      <td>pagecount_desktop_views</td>\n",
       "      <td>2016070100</td>\n",
       "      <td>5363966439</td>\n",
       "      <td>NaN</td>\n",
       "      <td>NaN</td>\n",
       "      <td>NaN</td>\n",
       "      <td>NaN</td>\n",
       "      <td>NaN</td>\n",
       "      <td>NaN</td>\n",
       "      <td>NaN</td>\n",
       "      <td>NaN</td>\n",
       "      <td>NaN</td>\n",
       "    </tr>\n",
       "  </tbody>\n",
       "</table>\n",
       "<p>103 rows × 12 columns</p>\n",
       "</div>"
      ],
      "text/plain": [
       "     pagecount_desktop_views                          pagecount_mobile_views  \\\n",
       "                      access   timestamp   num_views                  access   \n",
       "0    pagecount_desktop_views  2008010100  4930902570  pagecount_mobile_views   \n",
       "1    pagecount_desktop_views  2008020100  4818393763  pagecount_mobile_views   \n",
       "2    pagecount_desktop_views  2008030100  4955405809  pagecount_mobile_views   \n",
       "3    pagecount_desktop_views  2008040100  5159162183  pagecount_mobile_views   \n",
       "4    pagecount_desktop_views  2008050100  5584691092  pagecount_mobile_views   \n",
       "..                       ...         ...         ...                     ...   \n",
       "98   pagecount_desktop_views  2016030100  5407676056                     NaN   \n",
       "99   pagecount_desktop_views  2016040100  5572235399                     NaN   \n",
       "100  pagecount_desktop_views  2016050100  5330532334                     NaN   \n",
       "101  pagecount_desktop_views  2016060100  4975092447                     NaN   \n",
       "102  pagecount_desktop_views  2016070100  5363966439                     NaN   \n",
       "\n",
       "                               pageview_desktop_views              \\\n",
       "      timestamp     num_views                  access   timestamp   \n",
       "0    2014100100  3.091547e+09  pageview_desktop_views  2015070100   \n",
       "1    2014110100  3.027490e+09  pageview_desktop_views  2015080100   \n",
       "2    2014120100  3.278950e+09  pageview_desktop_views  2015090100   \n",
       "3    2015010100  3.485302e+09  pageview_desktop_views  2015100100   \n",
       "4    2015020100  3.091534e+09  pageview_desktop_views  2015110100   \n",
       "..          ...           ...                     ...         ...   \n",
       "98          NaN           NaN                     NaN         NaN   \n",
       "99          NaN           NaN                     NaN         NaN   \n",
       "100         NaN           NaN                     NaN         NaN   \n",
       "101         NaN           NaN                     NaN         NaN   \n",
       "102         NaN           NaN                     NaN         NaN   \n",
       "\n",
       "                  pageview_mobile_views                                       \n",
       "        num_views             timestamp     num_views                 access  \n",
       "0    4.376667e+09            2015070100  3.288755e+09  pageview_mobile_views  \n",
       "1    4.332482e+09            2015080100  3.302333e+09  pageview_mobile_views  \n",
       "2    4.485492e+09            2015090100  3.170203e+09  pageview_mobile_views  \n",
       "3    4.477533e+09            2015100100  3.268499e+09  pageview_mobile_views  \n",
       "4    4.287720e+09            2015110100  3.236601e+09  pageview_mobile_views  \n",
       "..            ...                   ...           ...                    ...  \n",
       "98            NaN                   NaN           NaN                    NaN  \n",
       "99            NaN                   NaN           NaN                    NaN  \n",
       "100           NaN                   NaN           NaN                    NaN  \n",
       "101           NaN                   NaN           NaN                    NaN  \n",
       "102           NaN                   NaN           NaN                    NaN  \n",
       "\n",
       "[103 rows x 12 columns]"
      ]
     },
     "execution_count": 78,
     "metadata": {},
     "output_type": "execute_result"
    }
   ],
   "source": [
    "all_data_concat"
   ]
  },
  {
   "cell_type": "code",
   "execution_count": null,
   "id": "cooked-freeware",
   "metadata": {},
   "outputs": [],
   "source": []
  },
  {
   "cell_type": "code",
   "execution_count": null,
   "id": "accessory-control",
   "metadata": {},
   "outputs": [],
   "source": []
  },
  {
   "cell_type": "code",
   "execution_count": 37,
   "id": "hired-hardware",
   "metadata": {},
   "outputs": [],
   "source": [
    "#df_monthly_pageviews_mobile_combined['timestamp'] = df_monthly_pageviews_mobile_combined['timestamp'].astype(str)"
   ]
  },
  {
   "cell_type": "code",
   "execution_count": 38,
   "id": "assisted-reserve",
   "metadata": {},
   "outputs": [],
   "source": [
    "#df_monthly_pageviews_mobile_combined['year'] = df_monthly_pageviews_mobile_combined['timestamp'].str[0:4]\n",
    "#df_monthly_pageviews_mobile_combined['month'] = df_monthly_pageviews_mobile_combined['timestamp'].str[4:6]"
   ]
  },
  {
   "cell_type": "code",
   "execution_count": 39,
   "id": "third-property",
   "metadata": {},
   "outputs": [],
   "source": [
    "#df_monthly_pageviews_mobile_combined"
   ]
  },
  {
   "cell_type": "code",
   "execution_count": null,
   "id": "obvious-freedom",
   "metadata": {},
   "outputs": [],
   "source": []
  },
  {
   "cell_type": "code",
   "execution_count": null,
   "id": "dated-advice",
   "metadata": {},
   "outputs": [],
   "source": []
  },
  {
   "cell_type": "code",
   "execution_count": null,
   "id": "controlling-pontiac",
   "metadata": {},
   "outputs": [],
   "source": []
  },
  {
   "cell_type": "code",
   "execution_count": null,
   "id": "seeing-anaheim",
   "metadata": {},
   "outputs": [],
   "source": []
  },
  {
   "cell_type": "code",
   "execution_count": null,
   "id": "excellent-lodging",
   "metadata": {},
   "outputs": [],
   "source": []
  },
  {
   "cell_type": "code",
   "execution_count": null,
   "id": "tight-ceremony",
   "metadata": {},
   "outputs": [],
   "source": []
  },
  {
   "cell_type": "code",
   "execution_count": null,
   "id": "systematic-armstrong",
   "metadata": {},
   "outputs": [],
   "source": []
  },
  {
   "cell_type": "code",
   "execution_count": null,
   "id": "perceived-priority",
   "metadata": {},
   "outputs": [],
   "source": []
  },
  {
   "cell_type": "code",
   "execution_count": null,
   "id": "satisfied-butterfly",
   "metadata": {},
   "outputs": [],
   "source": []
  },
  {
   "cell_type": "code",
   "execution_count": 40,
   "id": "tropical-accent",
   "metadata": {},
   "outputs": [],
   "source": [
    "#columns = ['project', 'access', 'agent', 'granularity']\n",
    "#columns = ['project', 'agent', 'granularity']"
   ]
  },
  {
   "cell_type": "code",
   "execution_count": 41,
   "id": "injured-polyester",
   "metadata": {},
   "outputs": [],
   "source": [
    "#df_monthly_pageviews_mobile_web = df_monthly_pageviews_mobile_web.drop(columns = columns)"
   ]
  },
  {
   "cell_type": "code",
   "execution_count": 42,
   "id": "abstract-ambassador",
   "metadata": {},
   "outputs": [],
   "source": [
    "#df_monthly_pageviews_mobile_app = df_monthly_pageviews_mobile_app.drop(columns = columns)"
   ]
  },
  {
   "cell_type": "code",
   "execution_count": 43,
   "id": "corresponding-excerpt",
   "metadata": {},
   "outputs": [],
   "source": [
    "#pageviews_df = [df_monthly_pageviews_mobile_web, df_monthly_pageviews_mobile_app]"
   ]
  },
  {
   "cell_type": "code",
   "execution_count": 44,
   "id": "incorrect-baseball",
   "metadata": {},
   "outputs": [],
   "source": [
    "#pageviews_df1 = pd.concat(pageviews_df, axis=1, keys=['timestamp'])"
   ]
  },
  {
   "cell_type": "code",
   "execution_count": 45,
   "id": "intensive-jacket",
   "metadata": {},
   "outputs": [],
   "source": [
    "#pageviews_combined = df_monthly_pageviews_mobile_web[['access', 'granularity', 'timestamp', 'views']].copy()"
   ]
  },
  {
   "cell_type": "code",
   "execution_count": 46,
   "id": "ahead-microwave",
   "metadata": {},
   "outputs": [],
   "source": [
    "#data1 = [df_monthly_pageviews_mobile_web['views'], df_monthly_pageviews_mobile_app['views']]"
   ]
  },
  {
   "cell_type": "code",
   "execution_count": 47,
   "id": "atomic-worry",
   "metadata": {},
   "outputs": [],
   "source": [
    "#headers = ['mobile_web', 'mobile_app']"
   ]
  },
  {
   "cell_type": "code",
   "execution_count": 48,
   "id": "registered-tonight",
   "metadata": {},
   "outputs": [],
   "source": [
    "#df_combined_mobile = pd.concat(data1, axis=1, keys=headers)"
   ]
  },
  {
   "cell_type": "code",
   "execution_count": 49,
   "id": "variable-transsexual",
   "metadata": {},
   "outputs": [],
   "source": [
    "#df_combined_mobile"
   ]
  },
  {
   "cell_type": "code",
   "execution_count": 50,
   "id": "annual-costume",
   "metadata": {},
   "outputs": [],
   "source": [
    "#merged_left = pd.merge(left=df_monthly_pageviews_mobile_web, right=df_monthly_pageviews_mobile_app, how='left', left_on='timestamp', right_on='timestamp')"
   ]
  },
  {
   "cell_type": "code",
   "execution_count": 51,
   "id": "acceptable-blowing",
   "metadata": {},
   "outputs": [],
   "source": [
    "#merged_left"
   ]
  },
  {
   "cell_type": "code",
   "execution_count": 52,
   "id": "entire-copper",
   "metadata": {},
   "outputs": [],
   "source": [
    "#merged_left['pageview_mobile_views'] = merged_left['views_x'] + merged_left['views_y']"
   ]
  },
  {
   "cell_type": "code",
   "execution_count": 53,
   "id": "private-monaco",
   "metadata": {},
   "outputs": [],
   "source": [
    "#merged_left"
   ]
  },
  {
   "cell_type": "code",
   "execution_count": 54,
   "id": "posted-salon",
   "metadata": {},
   "outputs": [],
   "source": [
    "#result1 = result.replace(to_replace = ['mobile-web', 'mobile-app'], value = 'page_view_mobile_views')"
   ]
  },
  {
   "cell_type": "code",
   "execution_count": 55,
   "id": "compressed-simple",
   "metadata": {},
   "outputs": [],
   "source": [
    "#result2 = result1.groupby('timestamp')['views'].sum()"
   ]
  },
  {
   "cell_type": "code",
   "execution_count": null,
   "id": "dirty-wholesale",
   "metadata": {},
   "outputs": [],
   "source": []
  },
  {
   "cell_type": "code",
   "execution_count": null,
   "id": "featured-lotus",
   "metadata": {},
   "outputs": [],
   "source": []
  },
  {
   "cell_type": "code",
   "execution_count": 56,
   "id": "backed-freeware",
   "metadata": {},
   "outputs": [],
   "source": [
    "#df_mobile_web = df_monthly_pageviews_mobile_web.copy()"
   ]
  },
  {
   "cell_type": "code",
   "execution_count": 57,
   "id": "arbitrary-black",
   "metadata": {},
   "outputs": [],
   "source": [
    "#df_pageviews_mobile = [df_monthly_pageviews_mobile_web, df_monthly_pageviews_mobile_app]"
   ]
  },
  {
   "cell_type": "code",
   "execution_count": 58,
   "id": "criminal-treatment",
   "metadata": {},
   "outputs": [],
   "source": [
    "#df_pageviews_mobile = pd.concat(df_pageviews_mobile, axis=1)"
   ]
  },
  {
   "cell_type": "code",
   "execution_count": 59,
   "id": "consistent-sight",
   "metadata": {},
   "outputs": [],
   "source": [
    "#columns = ['project', 'access', 'agent', 'granularity']"
   ]
  },
  {
   "cell_type": "code",
   "execution_count": 60,
   "id": "executed-value",
   "metadata": {},
   "outputs": [],
   "source": [
    "#df_pageviews_mobile.drop(columns = columns)"
   ]
  }
 ],
 "metadata": {
  "kernelspec": {
   "display_name": "Python 3",
   "language": "python",
   "name": "python3"
  },
  "language_info": {
   "codemirror_mode": {
    "name": "ipython",
    "version": 3
   },
   "file_extension": ".py",
   "mimetype": "text/x-python",
   "name": "python",
   "nbconvert_exporter": "python",
   "pygments_lexer": "ipython3",
   "version": "3.8.5"
  }
 },
 "nbformat": 4,
 "nbformat_minor": 5
}
