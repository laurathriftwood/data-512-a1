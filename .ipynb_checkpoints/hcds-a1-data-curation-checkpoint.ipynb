{
 "cells": [
  {
   "cell_type": "markdown",
   "id": "offensive-consciousness",
   "metadata": {},
   "source": [
    "# A1 - Data Curation\n",
    "## DATA 512 - Autumn 2021\n",
    "\n",
    "Purpose: The goal of this assignment is to construct, analyze, and publish a dataset of monthly traffic\n",
    "on English Wikipedia from January 1 2008 through August 30 2021."
   ]
  },
  {
   "cell_type": "markdown",
   "id": "loving-handle",
   "metadata": {},
   "source": [
    "### Setup\n",
    "\n",
    "We import the necessary packages for the Data Acquisition step."
   ]
  },
  {
   "cell_type": "code",
   "execution_count": 1,
   "id": "elder-trinity",
   "metadata": {},
   "outputs": [],
   "source": [
    "import json\n",
    "import requests\n",
    "import pandas as pd\n",
    "#import math"
   ]
  },
  {
   "cell_type": "markdown",
   "id": "laughing-attendance",
   "metadata": {},
   "source": [
    "### Data Acquisition\n",
    "\n",
    "In this step, we ...\n",
    "\n",
    "There are two endpoint APIs we will need to access for this assignment - Legacy Pagecounts API and Pageviews API\n",
    "\n",
    "Legacy Pagecounts API\n",
    "\n",
    "Provides access to desktop and mobile traffic data from December 2007 through July 2016\n",
    "\n",
    "Pageviews API\n",
    "\n",
    "Provides access to desktop, mobile web, and mobile app traffic data from July 2015 through the most recent month (at the time of this assignment, September 2021)"
   ]
  },
  {
   "cell_type": "code",
   "execution_count": 2,
   "id": "understood-ending",
   "metadata": {},
   "outputs": [],
   "source": [
    "endpoint_legacy = 'https://wikimedia.org/api/rest_v1/metrics/legacy/pagecounts/aggregate/{project}/{access-site}/{granularity}/{start}/{end}'\n",
    "\n",
    "endpoint_pageviews = 'https://wikimedia.org/api/rest_v1/metrics/pageviews/aggregate/{project}/{access}/{agent}/{granularity}/{start}/{end}'"
   ]
  },
  {
   "cell_type": "code",
   "execution_count": 3,
   "id": "worthy-consolidation",
   "metadata": {},
   "outputs": [],
   "source": [
    "# Parameters for each API call\n",
    "\n",
    "params_legacy_desktop = {\"project\" : \"en.wikipedia.org\",\n",
    "                 \"access-site\" : \"desktop-site\",\n",
    "                 \"granularity\" : \"monthly\",\n",
    "                 \"start\" : \"2008010100\",\n",
    "                 \"end\" : \"2016080100\"\n",
    "                    }\n",
    "\n",
    "params_legacy_mobile = {\"project\" : \"en.wikipedia.org\",\n",
    "                 \"access-site\" : \"mobile-site\",\n",
    "                 \"granularity\" : \"monthly\",\n",
    "                 \"start\" : \"2008010100\",\n",
    "                 \"end\" : \"2016080100\"\n",
    "                    }\n",
    "\n",
    "params_pageviews_desktop = {\"project\" : \"en.wikipedia.org\",\n",
    "                    \"access\" : \"desktop\",\n",
    "                    \"agent\" : \"user\",\n",
    "                    \"granularity\" : \"monthly\",\n",
    "                    \"start\" : \"2015070100\",\n",
    "                    \"end\" : '2021100100'\n",
    "                        }\n",
    "\n",
    "params_pageviews_mobile_web = {\"project\" : \"en.wikipedia.org\",\n",
    "                    \"access\" : \"mobile-web\",\n",
    "                    \"agent\" : \"user\",\n",
    "                    \"granularity\" : \"monthly\",\n",
    "                    \"start\" : \"2015070100\",\n",
    "                    \"end\" : '2021100100'\n",
    "                        }\n",
    "\n",
    "params_pageviews_mobile_app = {\"project\" : \"en.wikipedia.org\",\n",
    "                    \"access\" : \"mobile-app\",\n",
    "                    \"agent\" : \"user\",\n",
    "                    \"granularity\" : \"monthly\",\n",
    "                    \"start\" : \"2015070100\",\n",
    "                    \"end\" : '2021100100'\n",
    "                        }\n",
    "\n",
    "headers = {\n",
    "    'User-Agent': 'https://github.com/laurathriftwood',\n",
    "    'From': 'lwood3@uw.edu'\n",
    "}"
   ]
  },
  {
   "cell_type": "markdown",
   "id": "printable-vatican",
   "metadata": {},
   "source": [
    "We have a number of helper functions below that serve various purposes:\n",
    "- api_call() will be used to make our API calls and returns a dictionary object containing the results of the call\n",
    "- write_json() will be used to write the raw results of each of the API calls to a JSON file for our records"
   ]
  },
  {
   "cell_type": "code",
   "execution_count": 4,
   "id": "rapid-choir",
   "metadata": {},
   "outputs": [],
   "source": [
    "def api_call(endpoint,parameters):\n",
    "    call = requests.get(endpoint.format(**parameters), headers=headers)\n",
    "    response = call.json()\n",
    "    return response"
   ]
  },
  {
   "cell_type": "code",
   "execution_count": 5,
   "id": "unable-senior",
   "metadata": {},
   "outputs": [],
   "source": [
    "def write_json(output, file_name):\n",
    "    print(file_name)\n",
    "    with open(file_name, 'w+') as outfile:\n",
    "        json.dump(output, outfile)\n",
    "        print(\" written successfully\")"
   ]
  },
  {
   "cell_type": "markdown",
   "id": "suspended-employment",
   "metadata": {},
   "source": [
    "We will need to make 5 separate API calls to retrieve our data for all months where data is available.\n",
    "\n",
    "Legacy PageCounts API calls\n",
    "\n",
    "1. desktop traffic December 2007 through July 2016\n",
    "2. mobile traffic December 2007 through July 2016\n",
    "\n",
    "Pageviews API calls\n",
    "\n",
    "3. deskop traffic July 2015 through September 2021\n",
    "4. mobile web traffic July 2015 through September 2021\n",
    "5. mobile app traffic July 2015 through September 2021"
   ]
  },
  {
   "cell_type": "code",
   "execution_count": 6,
   "id": "cloudy-aurora",
   "metadata": {},
   "outputs": [],
   "source": [
    "# Legacy PageCounts API calls\n",
    "\n",
    "# desktop traffic\n",
    "monthly_legacy_desktop = api_call(endpoint_legacy, params_legacy_desktop)\n",
    "\n",
    "# mobile traffic\n",
    "monthly_legacy_mobile = api_call(endpoint_legacy, params_legacy_mobile)\n",
    "\n",
    "# PageViews API calls\n",
    "\n",
    "# desktop traffic\n",
    "monthly_pageviews_desktop = api_call(endpoint_pageviews, params_pageviews_desktop)\n",
    "\n",
    "# mobile-web traffic\n",
    "monthly_pageviews_mobile_web = api_call(endpoint_pageviews, params_pageviews_mobile_web)\n",
    "\n",
    "# mobile-app traffic\n",
    "monthly_pageviews_mobile_app = api_call(endpoint_pageviews, params_pageviews_mobile_app)"
   ]
  },
  {
   "cell_type": "markdown",
   "id": "historic-divorce",
   "metadata": {},
   "source": [
    "Next, we write a copy of the results of each of our API calls to the directory. "
   ]
  },
  {
   "cell_type": "code",
   "execution_count": 7,
   "id": "north-harbor",
   "metadata": {},
   "outputs": [
    {
     "name": "stdout",
     "output_type": "stream",
     "text": [
      "pagecounts_desktop_200801-201607.json\n",
      " written successfully\n",
      "pagecounts_mobile_200801-201607.json\n",
      " written successfully\n",
      "pageviews_desktop_201507-202109.json\n",
      " written successfully\n",
      "pageviews_mobile-web_201507-202109.json\n",
      " written successfully\n",
      "pageviews_mobile-app_201507-202109.json\n",
      " written successfully\n"
     ]
    }
   ],
   "source": [
    "# Write Legacy PageCounts to file\n",
    "write_json(monthly_legacy_desktop, 'pagecounts_desktop_200801-201607.json')\n",
    "write_json(monthly_legacy_mobile, 'pagecounts_mobile_200801-201607.json')\n",
    "# Write PageViews to file\n",
    "write_json(monthly_pageviews_desktop, 'pageviews_desktop_201507-202109.json')\n",
    "write_json(monthly_pageviews_mobile_web, 'pageviews_mobile-web_201507-202109.json')\n",
    "write_json(monthly_pageviews_mobile_app, 'pageviews_mobile-app_201507-202109.json')"
   ]
  },
  {
   "cell_type": "code",
   "execution_count": 8,
   "id": "uniform-dating",
   "metadata": {},
   "outputs": [],
   "source": [
    "#read in Legacy data from json files\n",
    "df_monthly_legacy_desktop = pd.read_json('pagecounts_desktop_200801-201607.json')\n",
    "df_monthly_legacy_mobile = pd.read_json('pagecounts_mobile_200801-201607.json')\n",
    "\n",
    "#read in PageViews data from json files\n",
    "df_monthly_pageviews_desktop = pd.read_json('pageviews_desktop_201507-202109.json')\n",
    "df_monthly_pageviews_mobile_web = pd.read_json('pageviews_mobile-web_201507-202109.json')\n",
    "df_monthly_pageviews_mobile_app = pd.read_json('pageviews_mobile-app_201507-202109.json')"
   ]
  },
  {
   "cell_type": "code",
   "execution_count": 9,
   "id": "refined-pioneer",
   "metadata": {},
   "outputs": [],
   "source": [
    "#unnest Legacy data into dataframe\n",
    "df_monthly_legacy_desktop = pd.json_normalize(df_monthly_legacy_desktop['items'])\n",
    "df_monthly_legacy_mobile = pd.json_normalize(df_monthly_legacy_mobile['items'])\n",
    "\n",
    "#unnest PageViews data into dataframe\n",
    "df_monthly_pageviews_desktop = pd.json_normalize(df_monthly_pageviews_desktop['items'])\n",
    "df_monthly_pageviews_mobile_web = pd.json_normalize(df_monthly_pageviews_mobile_web['items'])\n",
    "df_monthly_pageviews_mobile_app = pd.json_normalize(df_monthly_pageviews_mobile_app['items'])"
   ]
  },
  {
   "cell_type": "markdown",
   "id": "ambient-jonathan",
   "metadata": {},
   "source": [
    "### Data Cleaning and Processing"
   ]
  },
  {
   "cell_type": "code",
   "execution_count": 10,
   "id": "popular-edward",
   "metadata": {},
   "outputs": [],
   "source": [
    "#drop unnecessary columns from Legacy data\n",
    "legacy_columns = ['project', 'granularity']\n",
    "\n",
    "df_monthly_legacy_desktop = df_monthly_legacy_desktop.drop(columns = legacy_columns, axis=1)\n",
    "df_monthly_legacy_mobile = df_monthly_legacy_mobile.drop(columns = legacy_columns, axis=1)\n",
    "\n",
    "#rename legacy headers\n",
    "df_monthly_legacy_desktop = df_monthly_legacy_desktop.rename(columns={'access-site': 'access', 'count': 'num_views'})\n",
    "df_monthly_legacy_mobile = df_monthly_legacy_mobile.rename(columns={'access-site': 'access', 'count': 'num_views'})"
   ]
  },
  {
   "cell_type": "code",
   "execution_count": 11,
   "id": "extra-czech",
   "metadata": {},
   "outputs": [
    {
     "data": {
      "text/html": [
       "<div>\n",
       "<style scoped>\n",
       "    .dataframe tbody tr th:only-of-type {\n",
       "        vertical-align: middle;\n",
       "    }\n",
       "\n",
       "    .dataframe tbody tr th {\n",
       "        vertical-align: top;\n",
       "    }\n",
       "\n",
       "    .dataframe thead th {\n",
       "        text-align: right;\n",
       "    }\n",
       "</style>\n",
       "<table border=\"1\" class=\"dataframe\">\n",
       "  <thead>\n",
       "    <tr style=\"text-align: right;\">\n",
       "      <th></th>\n",
       "      <th>access</th>\n",
       "      <th>timestamp</th>\n",
       "      <th>num_views</th>\n",
       "    </tr>\n",
       "  </thead>\n",
       "  <tbody>\n",
       "    <tr>\n",
       "      <th>0</th>\n",
       "      <td>desktop-site</td>\n",
       "      <td>2008010100</td>\n",
       "      <td>4930902570</td>\n",
       "    </tr>\n",
       "    <tr>\n",
       "      <th>1</th>\n",
       "      <td>desktop-site</td>\n",
       "      <td>2008020100</td>\n",
       "      <td>4818393763</td>\n",
       "    </tr>\n",
       "    <tr>\n",
       "      <th>2</th>\n",
       "      <td>desktop-site</td>\n",
       "      <td>2008030100</td>\n",
       "      <td>4955405809</td>\n",
       "    </tr>\n",
       "    <tr>\n",
       "      <th>3</th>\n",
       "      <td>desktop-site</td>\n",
       "      <td>2008040100</td>\n",
       "      <td>5159162183</td>\n",
       "    </tr>\n",
       "    <tr>\n",
       "      <th>4</th>\n",
       "      <td>desktop-site</td>\n",
       "      <td>2008050100</td>\n",
       "      <td>5584691092</td>\n",
       "    </tr>\n",
       "    <tr>\n",
       "      <th>...</th>\n",
       "      <td>...</td>\n",
       "      <td>...</td>\n",
       "      <td>...</td>\n",
       "    </tr>\n",
       "    <tr>\n",
       "      <th>98</th>\n",
       "      <td>desktop-site</td>\n",
       "      <td>2016030100</td>\n",
       "      <td>5407676056</td>\n",
       "    </tr>\n",
       "    <tr>\n",
       "      <th>99</th>\n",
       "      <td>desktop-site</td>\n",
       "      <td>2016040100</td>\n",
       "      <td>5572235399</td>\n",
       "    </tr>\n",
       "    <tr>\n",
       "      <th>100</th>\n",
       "      <td>desktop-site</td>\n",
       "      <td>2016050100</td>\n",
       "      <td>5330532334</td>\n",
       "    </tr>\n",
       "    <tr>\n",
       "      <th>101</th>\n",
       "      <td>desktop-site</td>\n",
       "      <td>2016060100</td>\n",
       "      <td>4975092447</td>\n",
       "    </tr>\n",
       "    <tr>\n",
       "      <th>102</th>\n",
       "      <td>desktop-site</td>\n",
       "      <td>2016070100</td>\n",
       "      <td>5363966439</td>\n",
       "    </tr>\n",
       "  </tbody>\n",
       "</table>\n",
       "<p>103 rows × 3 columns</p>\n",
       "</div>"
      ],
      "text/plain": [
       "           access   timestamp   num_views\n",
       "0    desktop-site  2008010100  4930902570\n",
       "1    desktop-site  2008020100  4818393763\n",
       "2    desktop-site  2008030100  4955405809\n",
       "3    desktop-site  2008040100  5159162183\n",
       "4    desktop-site  2008050100  5584691092\n",
       "..            ...         ...         ...\n",
       "98   desktop-site  2016030100  5407676056\n",
       "99   desktop-site  2016040100  5572235399\n",
       "100  desktop-site  2016050100  5330532334\n",
       "101  desktop-site  2016060100  4975092447\n",
       "102  desktop-site  2016070100  5363966439\n",
       "\n",
       "[103 rows x 3 columns]"
      ]
     },
     "execution_count": 11,
     "metadata": {},
     "output_type": "execute_result"
    }
   ],
   "source": [
    "df_monthly_legacy_desktop"
   ]
  },
  {
   "cell_type": "code",
   "execution_count": 12,
   "id": "essential-mercy",
   "metadata": {},
   "outputs": [],
   "source": [
    "#rename access for legacy desktop views\n",
    "df_monthly_legacy_desktop = df_monthly_legacy_desktop.replace(to_replace = ['desktop-site'], value = 'pagecount_desktop_views')\n",
    "#rename access for legacy mobile views\n",
    "df_monthly_legacy_mobile = df_monthly_legacy_mobile.replace(to_replace = ['mobile-site'], value = 'pagecount_mobile_views')\n",
    "#rename access for pageviews desktop\n",
    "df_monthly_pageviews_desktop = df_monthly_pageviews_desktop.replace(to_replace = ['desktop'], value = 'pageview_desktop_views')\n",
    "#rename column header\n",
    "df_monthly_pageviews_desktop = df_monthly_pageviews_desktop.rename(columns={'views': 'num_views'})"
   ]
  },
  {
   "cell_type": "code",
   "execution_count": 13,
   "id": "informative-smart",
   "metadata": {},
   "outputs": [],
   "source": [
    "#drop unnecessary columns from desktop PageViews\n",
    "df_monthly_pageviews_desktop = df_monthly_pageviews_desktop.drop(df_monthly_pageviews_desktop.columns[[0, 2, 3]], axis=1)"
   ]
  },
  {
   "cell_type": "code",
   "execution_count": 14,
   "id": "rocky-stage",
   "metadata": {},
   "outputs": [],
   "source": [
    "#For data collected from the Pageviews API, combine the monthly values for\n",
    "# mobile-app and mobile-web to create a total mobile traffic count for each month."
   ]
  },
  {
   "cell_type": "code",
   "execution_count": 15,
   "id": "worth-boston",
   "metadata": {},
   "outputs": [],
   "source": [
    "#merge the two PageViews mobile using inner join\n",
    "merged = pd.merge(left=df_monthly_pageviews_mobile_web, \n",
    "                       right=df_monthly_pageviews_mobile_app,\n",
    "                       left_on='timestamp', \n",
    "                       right_on='timestamp')\n",
    "\n",
    "#sum the views for the two mobile access types\n",
    "merged['num_views'] = merged['views_x'] + merged['views_y']\n",
    "#add a column for access type for combined views\n",
    "merged['access'] = 'pageview_mobile_views'"
   ]
  },
  {
   "cell_type": "code",
   "execution_count": 16,
   "id": "expected-cleanup",
   "metadata": {},
   "outputs": [],
   "source": [
    "df_monthly_pageviews_mobile_combined = merged.copy()"
   ]
  },
  {
   "cell_type": "code",
   "execution_count": 17,
   "id": "identical-festival",
   "metadata": {},
   "outputs": [],
   "source": [
    "#drop unnecessary columns from combined mobile PageViews\n",
    "df_monthly_pageviews_mobile_combined = df_monthly_pageviews_mobile_combined.drop(merged.columns[[0, 1, 2, 3, 5, 6, 7, 8, 9, 10]], \n",
    "                                                                                 axis=1)"
   ]
  },
  {
   "cell_type": "code",
   "execution_count": 18,
   "id": "loose-editing",
   "metadata": {},
   "outputs": [],
   "source": [
    "#combine all dataframes\n",
    "all_data = [df_monthly_legacy_desktop, \n",
    "            df_monthly_legacy_mobile, \n",
    "            df_monthly_pageviews_desktop, \n",
    "            df_monthly_pageviews_mobile_combined]\n",
    "\n",
    "all_data_concat = pd.concat(all_data, axis=0, ignore_index = True, keys=['pagecount_desktop_views', \n",
    "                                                    'pagecount_mobile_views', \n",
    "                                                   'pageview_desktop_views', \n",
    "                                                   'pageview_mobile_views'])"
   ]
  },
  {
   "cell_type": "code",
   "execution_count": 19,
   "id": "wrapped-federation",
   "metadata": {},
   "outputs": [],
   "source": [
    "#pull view_counts for each access type into columns \n",
    "all_data_concat['pagecount_desktop_views'] = all_data_concat.loc[all_data_concat['access'] == 'pagecount_desktop_views', 'num_views']\n",
    "all_data_concat['pagecount_mobile_views'] = all_data_concat.loc[all_data_concat['access'] == 'pagecount_mobile_views', 'num_views']\n",
    "all_data_concat['pageview_desktop_views'] = all_data_concat.loc[all_data_concat['access'] == 'pageview_desktop_views', 'num_views']\n",
    "all_data_concat['pageview_mobile_views'] = all_data_concat.loc[all_data_concat['access'] == 'pageview_mobile_views', 'num_views']\n",
    "\n",
    "#replace null values with 0\n",
    "all_data_concat = all_data_concat.fillna(0)\n",
    "\n",
    "#drop access and num_views columns\n",
    "all_data_concat = all_data_concat.drop(all_data_concat.columns[[0, 2]], axis = 1)"
   ]
  },
  {
   "cell_type": "code",
   "execution_count": 20,
   "id": "drawn-excuse",
   "metadata": {},
   "outputs": [
    {
     "data": {
      "text/html": [
       "<div>\n",
       "<style scoped>\n",
       "    .dataframe tbody tr th:only-of-type {\n",
       "        vertical-align: middle;\n",
       "    }\n",
       "\n",
       "    .dataframe tbody tr th {\n",
       "        vertical-align: top;\n",
       "    }\n",
       "\n",
       "    .dataframe thead th {\n",
       "        text-align: right;\n",
       "    }\n",
       "</style>\n",
       "<table border=\"1\" class=\"dataframe\">\n",
       "  <thead>\n",
       "    <tr style=\"text-align: right;\">\n",
       "      <th></th>\n",
       "      <th>timestamp</th>\n",
       "      <th>pagecount_desktop_views</th>\n",
       "      <th>pagecount_mobile_views</th>\n",
       "      <th>pageview_desktop_views</th>\n",
       "      <th>pageview_mobile_views</th>\n",
       "    </tr>\n",
       "  </thead>\n",
       "  <tbody>\n",
       "    <tr>\n",
       "      <th>0</th>\n",
       "      <td>2008010100</td>\n",
       "      <td>4.930903e+09</td>\n",
       "      <td>0.0</td>\n",
       "      <td>0.0</td>\n",
       "      <td>0.000000e+00</td>\n",
       "    </tr>\n",
       "    <tr>\n",
       "      <th>1</th>\n",
       "      <td>2008020100</td>\n",
       "      <td>4.818394e+09</td>\n",
       "      <td>0.0</td>\n",
       "      <td>0.0</td>\n",
       "      <td>0.000000e+00</td>\n",
       "    </tr>\n",
       "    <tr>\n",
       "      <th>2</th>\n",
       "      <td>2008030100</td>\n",
       "      <td>4.955406e+09</td>\n",
       "      <td>0.0</td>\n",
       "      <td>0.0</td>\n",
       "      <td>0.000000e+00</td>\n",
       "    </tr>\n",
       "    <tr>\n",
       "      <th>3</th>\n",
       "      <td>2008040100</td>\n",
       "      <td>5.159162e+09</td>\n",
       "      <td>0.0</td>\n",
       "      <td>0.0</td>\n",
       "      <td>0.000000e+00</td>\n",
       "    </tr>\n",
       "    <tr>\n",
       "      <th>4</th>\n",
       "      <td>2008050100</td>\n",
       "      <td>5.584691e+09</td>\n",
       "      <td>0.0</td>\n",
       "      <td>0.0</td>\n",
       "      <td>0.000000e+00</td>\n",
       "    </tr>\n",
       "    <tr>\n",
       "      <th>...</th>\n",
       "      <td>...</td>\n",
       "      <td>...</td>\n",
       "      <td>...</td>\n",
       "      <td>...</td>\n",
       "      <td>...</td>\n",
       "    </tr>\n",
       "    <tr>\n",
       "      <th>270</th>\n",
       "      <td>2021050100</td>\n",
       "      <td>0.000000e+00</td>\n",
       "      <td>0.0</td>\n",
       "      <td>0.0</td>\n",
       "      <td>4.976580e+09</td>\n",
       "    </tr>\n",
       "    <tr>\n",
       "      <th>271</th>\n",
       "      <td>2021060100</td>\n",
       "      <td>0.000000e+00</td>\n",
       "      <td>0.0</td>\n",
       "      <td>0.0</td>\n",
       "      <td>4.584510e+09</td>\n",
       "    </tr>\n",
       "    <tr>\n",
       "      <th>272</th>\n",
       "      <td>2021070100</td>\n",
       "      <td>0.000000e+00</td>\n",
       "      <td>0.0</td>\n",
       "      <td>0.0</td>\n",
       "      <td>4.778909e+09</td>\n",
       "    </tr>\n",
       "    <tr>\n",
       "      <th>273</th>\n",
       "      <td>2021080100</td>\n",
       "      <td>0.000000e+00</td>\n",
       "      <td>0.0</td>\n",
       "      <td>0.0</td>\n",
       "      <td>4.732194e+09</td>\n",
       "    </tr>\n",
       "    <tr>\n",
       "      <th>274</th>\n",
       "      <td>2021090100</td>\n",
       "      <td>0.000000e+00</td>\n",
       "      <td>0.0</td>\n",
       "      <td>0.0</td>\n",
       "      <td>4.373513e+09</td>\n",
       "    </tr>\n",
       "  </tbody>\n",
       "</table>\n",
       "<p>275 rows × 5 columns</p>\n",
       "</div>"
      ],
      "text/plain": [
       "      timestamp  pagecount_desktop_views  pagecount_mobile_views  \\\n",
       "0    2008010100             4.930903e+09                     0.0   \n",
       "1    2008020100             4.818394e+09                     0.0   \n",
       "2    2008030100             4.955406e+09                     0.0   \n",
       "3    2008040100             5.159162e+09                     0.0   \n",
       "4    2008050100             5.584691e+09                     0.0   \n",
       "..          ...                      ...                     ...   \n",
       "270  2021050100             0.000000e+00                     0.0   \n",
       "271  2021060100             0.000000e+00                     0.0   \n",
       "272  2021070100             0.000000e+00                     0.0   \n",
       "273  2021080100             0.000000e+00                     0.0   \n",
       "274  2021090100             0.000000e+00                     0.0   \n",
       "\n",
       "     pageview_desktop_views  pageview_mobile_views  \n",
       "0                       0.0           0.000000e+00  \n",
       "1                       0.0           0.000000e+00  \n",
       "2                       0.0           0.000000e+00  \n",
       "3                       0.0           0.000000e+00  \n",
       "4                       0.0           0.000000e+00  \n",
       "..                      ...                    ...  \n",
       "270                     0.0           4.976580e+09  \n",
       "271                     0.0           4.584510e+09  \n",
       "272                     0.0           4.778909e+09  \n",
       "273                     0.0           4.732194e+09  \n",
       "274                     0.0           4.373513e+09  \n",
       "\n",
       "[275 rows x 5 columns]"
      ]
     },
     "execution_count": 20,
     "metadata": {},
     "output_type": "execute_result"
    }
   ],
   "source": [
    "all_data_concat"
   ]
  },
  {
   "cell_type": "code",
   "execution_count": 21,
   "id": "silent-exclusive",
   "metadata": {},
   "outputs": [],
   "source": [
    "#is it summing the right thing?\n",
    "#num_views is the sum of the two legacy counts\n",
    "#also group by year month?\n",
    "#or parse later from index\n",
    "all_data_concat = all_data_concat.groupby(['timestamp']).sum().reset_index()\n",
    "\n",
    "\n",
    "#For all data, separate the value of timestamp into four-digit year (YYYY) and two-digit\n",
    "#month (MM) and discard values for day and hour (DDHH).\n",
    "# extract year and month from timestamp\n",
    "all_data_concat['timestamp'] = all_data_concat['timestamp'].astype(str)\n",
    "all_data_concat['year'] = all_data_concat['timestamp'].str[0:4]\n",
    "all_data_concat['month'] = all_data_concat['timestamp'].str[4:6]\n",
    "\n",
    "#add all view columns that sums Legacy Page\n",
    "all_data_concat['pagecount_all_views'] = all_data_concat['pagecount_desktop_views'] + all_data_concat['pagecount_mobile_views']\n",
    "all_data_concat['pageview_all_views'] = all_data_concat['pageview_desktop_views'] + all_data_concat['pageview_mobile_views']\n",
    "\n",
    "#drop timestamp column\n",
    "all_data_concat = all_data_concat.drop(all_data_concat.columns[[0]], axis=1)\n",
    "\n",
    "#reorder columns\n",
    "all_data_concat = all_data_concat[['year', 'month', 'pagecount_all_views', \n",
    "                                   'pagecount_desktop_views', 'pagecount_mobile_views', \n",
    "                                   'pageview_all_views', 'pageview_desktop_views', 'pageview_mobile_views']]\n",
    "\n",
    "#output to file\n",
    "all_data_concat.to_csv(r'en-wikipedia_traffic_200712-202108.csv', index = False, header = True)"
   ]
  },
  {
   "cell_type": "code",
   "execution_count": 22,
   "id": "seven-mitchell",
   "metadata": {},
   "outputs": [
    {
     "data": {
      "text/html": [
       "<div>\n",
       "<style scoped>\n",
       "    .dataframe tbody tr th:only-of-type {\n",
       "        vertical-align: middle;\n",
       "    }\n",
       "\n",
       "    .dataframe tbody tr th {\n",
       "        vertical-align: top;\n",
       "    }\n",
       "\n",
       "    .dataframe thead th {\n",
       "        text-align: right;\n",
       "    }\n",
       "</style>\n",
       "<table border=\"1\" class=\"dataframe\">\n",
       "  <thead>\n",
       "    <tr style=\"text-align: right;\">\n",
       "      <th></th>\n",
       "      <th>year</th>\n",
       "      <th>month</th>\n",
       "      <th>pagecount_all_views</th>\n",
       "      <th>pagecount_desktop_views</th>\n",
       "      <th>pagecount_mobile_views</th>\n",
       "      <th>pageview_all_views</th>\n",
       "      <th>pageview_desktop_views</th>\n",
       "      <th>pageview_mobile_views</th>\n",
       "    </tr>\n",
       "  </thead>\n",
       "  <tbody>\n",
       "    <tr>\n",
       "      <th>0</th>\n",
       "      <td>2008</td>\n",
       "      <td>01</td>\n",
       "      <td>4.930903e+09</td>\n",
       "      <td>4.930903e+09</td>\n",
       "      <td>0.0</td>\n",
       "      <td>0.000000e+00</td>\n",
       "      <td>0.000000e+00</td>\n",
       "      <td>0.000000e+00</td>\n",
       "    </tr>\n",
       "    <tr>\n",
       "      <th>1</th>\n",
       "      <td>2008</td>\n",
       "      <td>02</td>\n",
       "      <td>4.818394e+09</td>\n",
       "      <td>4.818394e+09</td>\n",
       "      <td>0.0</td>\n",
       "      <td>0.000000e+00</td>\n",
       "      <td>0.000000e+00</td>\n",
       "      <td>0.000000e+00</td>\n",
       "    </tr>\n",
       "    <tr>\n",
       "      <th>2</th>\n",
       "      <td>2008</td>\n",
       "      <td>03</td>\n",
       "      <td>4.955406e+09</td>\n",
       "      <td>4.955406e+09</td>\n",
       "      <td>0.0</td>\n",
       "      <td>0.000000e+00</td>\n",
       "      <td>0.000000e+00</td>\n",
       "      <td>0.000000e+00</td>\n",
       "    </tr>\n",
       "    <tr>\n",
       "      <th>3</th>\n",
       "      <td>2008</td>\n",
       "      <td>04</td>\n",
       "      <td>5.159162e+09</td>\n",
       "      <td>5.159162e+09</td>\n",
       "      <td>0.0</td>\n",
       "      <td>0.000000e+00</td>\n",
       "      <td>0.000000e+00</td>\n",
       "      <td>0.000000e+00</td>\n",
       "    </tr>\n",
       "    <tr>\n",
       "      <th>4</th>\n",
       "      <td>2008</td>\n",
       "      <td>05</td>\n",
       "      <td>5.584691e+09</td>\n",
       "      <td>5.584691e+09</td>\n",
       "      <td>0.0</td>\n",
       "      <td>0.000000e+00</td>\n",
       "      <td>0.000000e+00</td>\n",
       "      <td>0.000000e+00</td>\n",
       "    </tr>\n",
       "    <tr>\n",
       "      <th>...</th>\n",
       "      <td>...</td>\n",
       "      <td>...</td>\n",
       "      <td>...</td>\n",
       "      <td>...</td>\n",
       "      <td>...</td>\n",
       "      <td>...</td>\n",
       "      <td>...</td>\n",
       "      <td>...</td>\n",
       "    </tr>\n",
       "    <tr>\n",
       "      <th>160</th>\n",
       "      <td>2021</td>\n",
       "      <td>05</td>\n",
       "      <td>0.000000e+00</td>\n",
       "      <td>0.000000e+00</td>\n",
       "      <td>0.0</td>\n",
       "      <td>7.800996e+09</td>\n",
       "      <td>2.824416e+09</td>\n",
       "      <td>4.976580e+09</td>\n",
       "    </tr>\n",
       "    <tr>\n",
       "      <th>161</th>\n",
       "      <td>2021</td>\n",
       "      <td>06</td>\n",
       "      <td>0.000000e+00</td>\n",
       "      <td>0.000000e+00</td>\n",
       "      <td>0.0</td>\n",
       "      <td>7.090482e+09</td>\n",
       "      <td>2.505971e+09</td>\n",
       "      <td>4.584510e+09</td>\n",
       "    </tr>\n",
       "    <tr>\n",
       "      <th>162</th>\n",
       "      <td>2021</td>\n",
       "      <td>07</td>\n",
       "      <td>0.000000e+00</td>\n",
       "      <td>0.000000e+00</td>\n",
       "      <td>0.0</td>\n",
       "      <td>7.544494e+09</td>\n",
       "      <td>2.765584e+09</td>\n",
       "      <td>4.778909e+09</td>\n",
       "    </tr>\n",
       "    <tr>\n",
       "      <th>163</th>\n",
       "      <td>2021</td>\n",
       "      <td>08</td>\n",
       "      <td>0.000000e+00</td>\n",
       "      <td>0.000000e+00</td>\n",
       "      <td>0.0</td>\n",
       "      <td>7.495608e+09</td>\n",
       "      <td>2.763414e+09</td>\n",
       "      <td>4.732194e+09</td>\n",
       "    </tr>\n",
       "    <tr>\n",
       "      <th>164</th>\n",
       "      <td>2021</td>\n",
       "      <td>09</td>\n",
       "      <td>0.000000e+00</td>\n",
       "      <td>0.000000e+00</td>\n",
       "      <td>0.0</td>\n",
       "      <td>7.060157e+09</td>\n",
       "      <td>2.686644e+09</td>\n",
       "      <td>4.373513e+09</td>\n",
       "    </tr>\n",
       "  </tbody>\n",
       "</table>\n",
       "<p>165 rows × 8 columns</p>\n",
       "</div>"
      ],
      "text/plain": [
       "     year month  pagecount_all_views  pagecount_desktop_views  \\\n",
       "0    2008    01         4.930903e+09             4.930903e+09   \n",
       "1    2008    02         4.818394e+09             4.818394e+09   \n",
       "2    2008    03         4.955406e+09             4.955406e+09   \n",
       "3    2008    04         5.159162e+09             5.159162e+09   \n",
       "4    2008    05         5.584691e+09             5.584691e+09   \n",
       "..    ...   ...                  ...                      ...   \n",
       "160  2021    05         0.000000e+00             0.000000e+00   \n",
       "161  2021    06         0.000000e+00             0.000000e+00   \n",
       "162  2021    07         0.000000e+00             0.000000e+00   \n",
       "163  2021    08         0.000000e+00             0.000000e+00   \n",
       "164  2021    09         0.000000e+00             0.000000e+00   \n",
       "\n",
       "     pagecount_mobile_views  pageview_all_views  pageview_desktop_views  \\\n",
       "0                       0.0        0.000000e+00            0.000000e+00   \n",
       "1                       0.0        0.000000e+00            0.000000e+00   \n",
       "2                       0.0        0.000000e+00            0.000000e+00   \n",
       "3                       0.0        0.000000e+00            0.000000e+00   \n",
       "4                       0.0        0.000000e+00            0.000000e+00   \n",
       "..                      ...                 ...                     ...   \n",
       "160                     0.0        7.800996e+09            2.824416e+09   \n",
       "161                     0.0        7.090482e+09            2.505971e+09   \n",
       "162                     0.0        7.544494e+09            2.765584e+09   \n",
       "163                     0.0        7.495608e+09            2.763414e+09   \n",
       "164                     0.0        7.060157e+09            2.686644e+09   \n",
       "\n",
       "     pageview_mobile_views  \n",
       "0             0.000000e+00  \n",
       "1             0.000000e+00  \n",
       "2             0.000000e+00  \n",
       "3             0.000000e+00  \n",
       "4             0.000000e+00  \n",
       "..                     ...  \n",
       "160           4.976580e+09  \n",
       "161           4.584510e+09  \n",
       "162           4.778909e+09  \n",
       "163           4.732194e+09  \n",
       "164           4.373513e+09  \n",
       "\n",
       "[165 rows x 8 columns]"
      ]
     },
     "execution_count": 22,
     "metadata": {},
     "output_type": "execute_result"
    }
   ],
   "source": [
    "all_data_concat"
   ]
  },
  {
   "cell_type": "markdown",
   "id": "unlimited-seating",
   "metadata": {},
   "source": [
    "# Data Visualization"
   ]
  },
  {
   "cell_type": "code",
   "execution_count": 23,
   "id": "modern-pillow",
   "metadata": {},
   "outputs": [],
   "source": [
    "import matplotlib.pyplot as plt\n",
    "import numpy as np"
   ]
  },
  {
   "cell_type": "code",
   "execution_count": 24,
   "id": "appointed-tunisia",
   "metadata": {},
   "outputs": [
    {
     "data": {
      "text/plain": [
       "[<matplotlib.lines.Line2D at 0x7f8bf0fcaa00>]"
      ]
     },
     "execution_count": 24,
     "metadata": {},
     "output_type": "execute_result"
    },
    {
     "data": {
      "image/png": "[encoded data removed]",
      "text/plain": [
       "<Figure size 432x288 with 1 Axes>"
      ]
     },
     "metadata": {
      "needs_background": "light"
     },
     "output_type": "display_data"
    }
   ],
   "source": [
    "y1 = all_data_concat['pagecount_mobile_views']\n",
    "y2 = all_data_concat['pageview_mobile_views']\n",
    "y3 = all_data_concat['pageview_desktop_views']\n",
    "y4 = all_data_concat['pagecount_desktop_views']\n",
    "\n",
    "plt.plot(y1)\n",
    "plt.plot(y2)\n",
    "plt.plot(y3)\n",
    "plt.plot(y4)"
   ]
  },
  {
   "cell_type": "code",
   "execution_count": 25,
   "id": "southeast-discount",
   "metadata": {},
   "outputs": [
    {
     "data": {
      "image/png": "[encoded data removed]",
      "text/plain": [
       "<Figure size 432x288 with 1 Axes>"
      ]
     },
     "metadata": {
      "needs_background": "light"
     },
     "output_type": "display_data"
    }
   ],
   "source": [
    "y1 = all_data_concat['pagecount_mobile_views'] + all_data_concat['pageview_mobile_views']\n",
    "y2 = all_data_concat['pagecount_desktop_views'] + all_data_concat['pageview_desktop_views']\n",
    "y3 = all_data_concat['pagecount_all_views'] + all_data_concat['pageview_all_views']\n",
    "\n",
    "fig, ax = plt.subplots()\n",
    "\n",
    "line1 = ax.plot(y1, '--', label='mobile site')\n",
    "line2 = ax.plot(y2, '--', label='main site')\n",
    "line3 = ax.plot(y3, '--', label='total')\n",
    "\n",
    "#line1.set_dashes([2, 2])\n",
    "\n",
    "ax.legend()\n",
    "plt.show()\n"
   ]
  },
  {
   "cell_type": "code",
   "execution_count": null,
   "id": "nutritional-recommendation",
   "metadata": {},
   "outputs": [],
   "source": []
  },
  {
   "cell_type": "code",
   "execution_count": 26,
   "id": "premium-retirement",
   "metadata": {},
   "outputs": [
    {
     "data": {
      "text/plain": [
       "<AxesSubplot:>"
      ]
     },
     "execution_count": 26,
     "metadata": {},
     "output_type": "execute_result"
    },
    {
     "data": {
      "image/png": "[encoded data removed]",
      "text/plain": [
       "<Figure size 1440x360 with 1 Axes>"
      ]
     },
     "metadata": {
      "needs_background": "light"
     },
     "output_type": "display_data"
    }
   ],
   "source": [
    "all_data_concat.plot(figsize=(20,5))"
   ]
  }
 ],
 "metadata": {
  "kernelspec": {
   "display_name": "Python 3",
   "language": "python",
   "name": "python3"
  },
  "language_info": {
   "codemirror_mode": {
    "name": "ipython",
    "version": 3
   },
   "file_extension": ".py",
   "mimetype": "text/x-python",
   "name": "python",
   "nbconvert_exporter": "python",
   "pygments_lexer": "ipython3",
   "version": "3.8.5"
  }
 },
 "nbformat": 4,
 "nbformat_minor": 5
}
