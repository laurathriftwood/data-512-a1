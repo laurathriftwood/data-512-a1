{
 "cells": [
  {
   "cell_type": "code",
   "execution_count": 1,
   "id": "elder-trinity",
   "metadata": {},
   "outputs": [],
   "source": [
    "import json\n",
    "import requests"
   ]
  },
  {
   "cell_type": "code",
   "execution_count": 2,
   "id": "understood-ending",
   "metadata": {},
   "outputs": [],
   "source": [
    "endpoint_legacy = 'https://wikimedia.org/api/rest_v1/metrics/legacy/pagecounts/aggregate/{project}/{access-site}/{granularity}/{start}/{end}'\n",
    "\n",
    "endpoint_pageviews = 'https://wikimedia.org/api/rest_v1/metrics/pageviews/aggregate/{project}/{access}/{agent}/{granularity}/{start}/{end}'"
   ]
  },
  {
   "cell_type": "code",
   "execution_count": 3,
   "id": "worthy-consolidation",
   "metadata": {},
   "outputs": [],
   "source": [
    "params_legacy_desktop = {\"project\" : \"en.wikipedia.org\",\n",
    "                 \"access-site\" : \"desktop-site\",\n",
    "                 \"granularity\" : \"monthly\",\n",
    "                 \"start\" : \"2008010100\",\n",
    "                 \"end\" : \"2016080100\"\n",
    "                    }\n",
    "\n",
    "params_legacy_mobile = {\"project\" : \"en.wikipedia.org\",\n",
    "                 \"access-site\" : \"mobile-site\",\n",
    "                 \"granularity\" : \"monthly\",\n",
    "                 \"start\" : \"2008010100\",\n",
    "                 \"end\" : \"2016080100\"\n",
    "                    }\n",
    "\n",
    "params_pageviews_desktop = {\"project\" : \"en.wikipedia.org\",\n",
    "                    \"access\" : \"desktop\",\n",
    "                    \"agent\" : \"user\",\n",
    "                    \"granularity\" : \"monthly\",\n",
    "                    \"start\" : \"2015070100\",\n",
    "                    \"end\" : '2021100100'\n",
    "                        }\n",
    "\n",
    "params_pageviews_mobile_web = {\"project\" : \"en.wikipedia.org\",\n",
    "                    \"access\" : \"mobile-web\",\n",
    "                    \"agent\" : \"user\",\n",
    "                    \"granularity\" : \"monthly\",\n",
    "                    \"start\" : \"2015070100\",\n",
    "                    \"end\" : '2021100100'\n",
    "                        }\n",
    "\n",
    "params_pageviews_mobile_app = {\"project\" : \"en.wikipedia.org\",\n",
    "                    \"access\" : \"mobile-app\",\n",
    "                    \"agent\" : \"user\",\n",
    "                    \"granularity\" : \"monthly\",\n",
    "                    \"start\" : \"2015070100\",\n",
    "                    \"end\" : '2021100100'\n",
    "                        }\n",
    "\n",
    "# Customize these with your own information\n",
    "headers = {\n",
    "    'User-Agent': 'https://github.com/laurathriftwood',\n",
    "    'From': 'lwood3@uw.edu'\n",
    "}"
   ]
  },
  {
   "cell_type": "code",
   "execution_count": 4,
   "id": "rapid-choir",
   "metadata": {},
   "outputs": [],
   "source": [
    "def api_call(endpoint,parameters):\n",
    "    call = requests.get(endpoint.format(**parameters), headers=headers)\n",
    "    response = call.json()\n",
    "    return response"
   ]
  },
  {
   "cell_type": "code",
   "execution_count": 5,
   "id": "unable-senior",
   "metadata": {},
   "outputs": [],
   "source": [
    "def write_json(output, file_name):\n",
    "    with open(file_name, \"w+\") as outfile:\n",
    "        json.dump(output, outfile)\n",
    "        #close?"
   ]
  },
  {
   "cell_type": "code",
   "execution_count": 6,
   "id": "cloudy-aurora",
   "metadata": {},
   "outputs": [],
   "source": [
    "# Legacy PageCounts API calls\n",
    "\n",
    "# desktop traffic\n",
    "monthly_legacy_desktop = api_call(endpoint_legacy, params_legacy_desktop)\n",
    "\n",
    "# mobile traffic\n",
    "monthly_legacy_mobile = api_call(endpoint_legacy, params_legacy_mobile)"
   ]
  },
  {
   "cell_type": "code",
   "execution_count": 7,
   "id": "north-harbor",
   "metadata": {},
   "outputs": [],
   "source": [
    "# Write Legacy PageCounts to file\n",
    "write_json(monthly_legacy_desktop, \"pagecounts_desktop_200801-201607.json\")\n",
    "write_json(monthly_legacy_mobile, \"pagecounts_mobile_200801-201607.json\")"
   ]
  },
  {
   "cell_type": "code",
   "execution_count": 8,
   "id": "light-louisville",
   "metadata": {},
   "outputs": [],
   "source": [
    "# PageViews API calls\n",
    "\n",
    "# desktop traffic\n",
    "monthly_pageviews_desktop = api_call(endpoint_pageviews, params_pageviews_desktop)\n",
    "\n",
    "# mobile-web traffic\n",
    "monthly_pageviews_mobile_web = api_call(endpoint_pageviews, params_pageviews_mobile_web)\n",
    "\n",
    "# mobile-app traffic\n",
    "monthly_pageviews_mobile_app = api_call(endpoint_pageviews, params_pageviews_mobile_app)"
   ]
  },
  {
   "cell_type": "code",
   "execution_count": 9,
   "id": "canadian-choir",
   "metadata": {},
   "outputs": [],
   "source": [
    "# Write PageViews to file\n",
    "write_json(monthly_pageviews_desktop, \"pageviews_desktop_201507-202109.json\")\n",
    "write_json(monthly_pageviews_mobile_web, \"pageviews_mobile-web_201507-202109.json\")\n",
    "write_json(monthly_pageviews_mobile_app, \"pageviews_mobile-app_201507-202109.json\")"
   ]
  },
  {
   "cell_type": "code",
   "execution_count": 10,
   "id": "artificial-conservation",
   "metadata": {},
   "outputs": [],
   "source": [
    "import pandas as pd\n",
    "import math"
   ]
  },
  {
   "cell_type": "code",
   "execution_count": null,
   "id": "efficient-trade",
   "metadata": {},
   "outputs": [],
   "source": []
  }
 ],
 "metadata": {
  "kernelspec": {
   "display_name": "Python 3",
   "language": "python",
   "name": "python3"
  },
  "language_info": {
   "codemirror_mode": {
    "name": "ipython",
    "version": 3
   },
   "file_extension": ".py",
   "mimetype": "text/x-python",
   "name": "python",
   "nbconvert_exporter": "python",
   "pygments_lexer": "ipython3",
   "version": "3.8.5"
  }
 },
 "nbformat": 4,
 "nbformat_minor": 5
}
